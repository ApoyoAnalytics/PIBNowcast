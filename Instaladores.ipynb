{
 "cells": [
  {
   "cell_type": "markdown",
   "metadata": {},
   "source": [
    "# Instaladores"
   ]
  },
  {
   "cell_type": "code",
   "execution_count": 1,
   "metadata": {},
   "outputs": [
    {
     "name": "stdout",
     "output_type": "stream",
     "text": [
      "Requirement already satisfied: pykalman==0.9.5 in c:\\users\\eo\\anaconda3\\lib\\site-packages (0.9.5)\n",
      "Requirement already satisfied: numdifftools==0.9.39 in c:\\users\\eo\\anaconda3\\lib\\site-packages (0.9.39)\n",
      "Collecting pandas==0.25.1\n",
      "  Downloading pandas-0.25.1-cp37-cp37m-win_amd64.whl (9.2 MB)\n",
      "Requirement already satisfied: numpy>=1.13.3 in c:\\users\\eo\\anaconda3\\lib\\site-packages (from pandas==0.25.1) (1.18.1)\n",
      "Requirement already satisfied: python-dateutil>=2.6.1 in c:\\users\\eo\\anaconda3\\lib\\site-packages (from pandas==0.25.1) (2.8.1)\n",
      "Requirement already satisfied: pytz>=2017.2 in c:\\users\\eo\\anaconda3\\lib\\site-packages (from pandas==0.25.1) (2019.3)\n",
      "Requirement already satisfied: six>=1.5 in c:\\users\\eo\\anaconda3\\lib\\site-packages (from python-dateutil>=2.6.1->pandas==0.25.1) (1.14.0)\n",
      "Installing collected packages: pandas\n",
      "Successfully installed pandas-0.25.1\n",
      "Collecting statsmodels==0.10.1\n",
      "  Downloading statsmodels-0.10.1-cp37-none-win_amd64.whl (7.6 MB)\n",
      "Requirement already satisfied: numpy>=1.11 in c:\\users\\eo\\anaconda3\\lib\\site-packages (from statsmodels==0.10.1) (1.18.1)\n",
      "Requirement already satisfied: patsy>=0.4.0 in c:\\users\\eo\\anaconda3\\lib\\site-packages (from statsmodels==0.10.1) (0.5.1)\n",
      "Requirement already satisfied: pandas>=0.19 in c:\\users\\eo\\appdata\\roaming\\python\\python37\\site-packages (from statsmodels==0.10.1) (0.25.1)\n",
      "Requirement already satisfied: scipy>=0.18 in c:\\users\\eo\\anaconda3\\lib\\site-packages (from statsmodels==0.10.1) (1.4.1)\n",
      "Requirement already satisfied: six in c:\\users\\eo\\anaconda3\\lib\\site-packages (from patsy>=0.4.0->statsmodels==0.10.1) (1.14.0)\n",
      "Requirement already satisfied: python-dateutil>=2.6.1 in c:\\users\\eo\\anaconda3\\lib\\site-packages (from pandas>=0.19->statsmodels==0.10.1) (2.8.1)\n",
      "Requirement already satisfied: pytz>=2017.2 in c:\\users\\eo\\anaconda3\\lib\\site-packages (from pandas>=0.19->statsmodels==0.10.1) (2019.3)\n",
      "Installing collected packages: statsmodels\n",
      "Successfully installed statsmodels-0.10.1\n",
      "Collecting seaborn==0.9.0\n",
      "  Downloading seaborn-0.9.0-py3-none-any.whl (208 kB)\n",
      "Requirement already satisfied: pandas>=0.15.2 in c:\\users\\eo\\appdata\\roaming\\python\\python37\\site-packages (from seaborn==0.9.0) (0.25.1)\n",
      "Requirement already satisfied: matplotlib>=1.4.3 in c:\\users\\eo\\anaconda3\\lib\\site-packages (from seaborn==0.9.0) (3.1.3)\n",
      "Requirement already satisfied: scipy>=0.14.0 in c:\\users\\eo\\anaconda3\\lib\\site-packages (from seaborn==0.9.0) (1.4.1)\n",
      "Requirement already satisfied: numpy>=1.9.3 in c:\\users\\eo\\anaconda3\\lib\\site-packages (from seaborn==0.9.0) (1.18.1)\n",
      "Requirement already satisfied: python-dateutil>=2.6.1 in c:\\users\\eo\\anaconda3\\lib\\site-packages (from pandas>=0.15.2->seaborn==0.9.0) (2.8.1)\n",
      "Requirement already satisfied: pytz>=2017.2 in c:\\users\\eo\\anaconda3\\lib\\site-packages (from pandas>=0.15.2->seaborn==0.9.0) (2019.3)\n",
      "Requirement already satisfied: pyparsing!=2.0.4,!=2.1.2,!=2.1.6,>=2.0.1 in c:\\users\\eo\\anaconda3\\lib\\site-packages (from matplotlib>=1.4.3->seaborn==0.9.0) (2.4.6)\n",
      "Requirement already satisfied: kiwisolver>=1.0.1 in c:\\users\\eo\\anaconda3\\lib\\site-packages (from matplotlib>=1.4.3->seaborn==0.9.0) (1.1.0)\n",
      "Requirement already satisfied: cycler>=0.10 in c:\\users\\eo\\anaconda3\\lib\\site-packages (from matplotlib>=1.4.3->seaborn==0.9.0) (0.10.0)\n",
      "Requirement already satisfied: six>=1.5 in c:\\users\\eo\\anaconda3\\lib\\site-packages (from python-dateutil>=2.6.1->pandas>=0.15.2->seaborn==0.9.0) (1.14.0)\n",
      "Requirement already satisfied: setuptools in c:\\users\\eo\\anaconda3\\lib\\site-packages (from kiwisolver>=1.0.1->matplotlib>=1.4.3->seaborn==0.9.0) (45.2.0.post20200210)\n",
      "Installing collected packages: seaborn\n",
      "Successfully installed seaborn-0.9.0\n",
      "Collecting matplotlib==3.1.1\n",
      "  Downloading matplotlib-3.1.1-cp37-cp37m-win_amd64.whl (9.1 MB)\n",
      "Requirement already satisfied: cycler>=0.10 in c:\\users\\eo\\anaconda3\\lib\\site-packages (from matplotlib==3.1.1) (0.10.0)\n",
      "Requirement already satisfied: numpy>=1.11 in c:\\users\\eo\\anaconda3\\lib\\site-packages (from matplotlib==3.1.1) (1.18.1)\n",
      "Requirement already satisfied: kiwisolver>=1.0.1 in c:\\users\\eo\\anaconda3\\lib\\site-packages (from matplotlib==3.1.1) (1.1.0)\n",
      "Requirement already satisfied: python-dateutil>=2.1 in c:\\users\\eo\\anaconda3\\lib\\site-packages (from matplotlib==3.1.1) (2.8.1)\n",
      "Requirement already satisfied: pyparsing!=2.0.4,!=2.1.2,!=2.1.6,>=2.0.1 in c:\\users\\eo\\anaconda3\\lib\\site-packages (from matplotlib==3.1.1) (2.4.6)\n",
      "Requirement already satisfied: six in c:\\users\\eo\\anaconda3\\lib\\site-packages (from cycler>=0.10->matplotlib==3.1.1) (1.14.0)\n",
      "Requirement already satisfied: setuptools in c:\\users\\eo\\anaconda3\\lib\\site-packages (from kiwisolver>=1.0.1->matplotlib==3.1.1) (45.2.0.post20200210)\n",
      "Installing collected packages: matplotlib\n",
      "Successfully installed matplotlib-3.1.1\n",
      "Requirement already satisfied: ipynb in c:\\users\\eo\\anaconda3\\lib\\site-packages (0.5.1)\n",
      "Requirement already satisfied: scikit-learn==0.22.1 in c:\\users\\eo\\anaconda3\\lib\\site-packages (0.22.1)\n",
      "Requirement already satisfied: scipy>=0.17.0 in c:\\users\\eo\\anaconda3\\lib\\site-packages (from scikit-learn==0.22.1) (1.4.1)\n",
      "Requirement already satisfied: joblib>=0.11 in c:\\users\\eo\\anaconda3\\lib\\site-packages (from scikit-learn==0.22.1) (0.14.1)\n",
      "Requirement already satisfied: numpy>=1.11.0 in c:\\users\\eo\\anaconda3\\lib\\site-packages (from scikit-learn==0.22.1) (1.18.1)\n"
     ]
    }
   ],
   "source": [
    "!pip install pykalman==0.9.5 --user\n",
    "!pip install numdifftools==0.9.39 --user\n",
    "!pip install pandas==0.25.1 --user\n",
    "!pip install statsmodels==0.10.1 --user\n",
    "!pip install seaborn==0.9.0 --user\n",
    "!pip install matplotlib==3.1.1 --user\n",
    "!pip install ipynb --user\n",
    "!pip install scikit-learn==0.22.1 --user"
   ]
  },
  {
   "cell_type": "code",
   "execution_count": 4,
   "metadata": {
    "scrolled": true
   },
   "outputs": [
    {
     "data": {
      "text/plain": [
       "'C:\\\\Users\\\\eo\\\\AppData\\\\Roaming\\\\Python\\\\Python37\\\\site-packages/pykalman'"
      ]
     },
     "execution_count": 4,
     "metadata": {},
     "output_type": "execute_result"
    }
   ],
   "source": [
    "import os\n",
    "import site\n",
    "import shutil\n",
    "FolderLibreriasLocales = site.getusersitepackages()\n",
    "shutil.copy('librerias_kalman/standard.py',FolderLibreriasLocales + '/pykalman')"
   ]
  },
  {
   "cell_type": "code",
   "execution_count": null,
   "metadata": {},
   "outputs": [],
   "source": []
  }
 ],
 "metadata": {
  "kernelspec": {
   "display_name": "Python 3",
   "language": "python",
   "name": "python3"
  },
  "language_info": {
   "codemirror_mode": {
    "name": "ipython",
    "version": 3
   },
   "file_extension": ".py",
   "mimetype": "text/x-python",
   "name": "python",
   "nbconvert_exporter": "python",
   "pygments_lexer": "ipython3",
   "version": "3.7.6"
  },
  "varInspector": {
   "cols": {
    "lenName": 16,
    "lenType": 16,
    "lenVar": 40
   },
   "kernels_config": {
    "python": {
     "delete_cmd_postfix": "",
     "delete_cmd_prefix": "del ",
     "library": "var_list.py",
     "varRefreshCmd": "print(var_dic_list())"
    },
    "r": {
     "delete_cmd_postfix": ") ",
     "delete_cmd_prefix": "rm(",
     "library": "var_list.r",
     "varRefreshCmd": "cat(var_dic_list()) "
    }
   },
   "types_to_exclude": [
    "module",
    "function",
    "builtin_function_or_method",
    "instance",
    "_Feature"
   ],
   "window_display": false
  }
 },
 "nbformat": 4,
 "nbformat_minor": 2
}
