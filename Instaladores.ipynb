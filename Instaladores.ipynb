{
 "cells": [
  {
   "cell_type": "markdown",
   "metadata": {},
   "source": [
    "# Instaladores"
   ]
  },
  {
   "cell_type": "code",
   "execution_count": null,
   "metadata": {},
   "outputs": [],
   "source": [
    "!pip install pykalman==0.9.5 --user\n",
    "!pip install numdifftools==0.9.39 --user\n",
    "!pip install pandas==0.24.2 --user\n",
    "!pip install statsmodels==0.10.1 --user\n",
    "!pip install seaborn==0.9.0 --user\n",
    "!pip install matplotlib==3.1.1 --user\n",
    "!pip install ipynb --user\n",
    "!cp library/librerias_kalman/standard.py ./.local/lib/python3.5/site-packages/pykalman -f"
   ]
  }
 ],
 "metadata": {
  "kernelspec": {
   "display_name": "Python 3",
   "language": "python",
   "name": "python3"
  },
  "language_info": {
   "codemirror_mode": {
    "name": "ipython",
    "version": 3
   },
   "file_extension": ".py",
   "mimetype": "text/x-python",
   "name": "python",
   "nbconvert_exporter": "python",
   "pygments_lexer": "ipython3",
   "version": "3.7.4"
  }
 },
 "nbformat": 4,
 "nbformat_minor": 2
}
