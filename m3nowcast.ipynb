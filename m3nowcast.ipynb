{
 "cells": [
  {
   "attachments": {
    "image.png": {
     "image/png": "[encoded data removed]"
    }
   },
   "cell_type": "markdown",
   "metadata": {},
   "source": [
    "![image.png](attachment:image.png)\n",
    "\n",
    "# Nowcast\n",
    "\n",
    "Esta libreria construye la estimacion de nowcast usando la metodologia especificada en el punto 2.2 (Factores dinámicos y regresión en dos etapas) del informe. Se busca obtener proyecciones trimestrales usando informacion mensual y que se pueda manejar el problema de informacion faltante sin tener que realizar proyecciones de variables adicionales.\n",
    "\n",
    "Esta libreria realiza la estimacion y la evaluación, pero no la proyeccion.\n"
   ]
  },
  {
   "cell_type": "code",
   "execution_count": 1,
   "metadata": {},
   "outputs": [],
   "source": [
    "import pykalman as kalman\n",
    "import pandas as pd\n",
    "import datetime as dt\n",
    "import numpy as np\n",
    "import matplotlib.pyplot as plt\n",
    "import os\n",
    "\n",
    "from ipynb.fs.defs.ConstruccionBasedeDatos import BasedeDatos\n",
    "\n",
    "from statsmodels.tsa.arima_model import ARIMA\n",
    "import statsmodels.api as sm\n",
    "\n",
    "\n",
    "import seaborn as sns\n",
    "\n",
    "from sklearn.metrics import mean_absolute_error, mean_squared_error, r2_score\n",
    "from sklearn.decomposition import PCA"
   ]
  },
  {
   "cell_type": "code",
   "execution_count": 2,
   "metadata": {},
   "outputs": [],
   "source": [
    "rutaOrigen = 'inputs/'\n",
    "rutaDestino = 'resultados/'\n",
    "rutaModelos = 'model_nowcast/'\n"
   ]
  },
  {
   "cell_type": "markdown",
   "metadata": {},
   "source": [
    "## Variables a proyectar en frecuencia mensual"
   ]
  },
  {
   "cell_type": "code",
   "execution_count": 3,
   "metadata": {},
   "outputs": [],
   "source": [
    "#Variable trimestral\n",
    "\n",
    "Z = ['pbif_Trimestre_VariacionAnual']\n",
    "\n",
    "#Varaibles mensuales\n",
    "\n",
    "y = ['imae_Mensual_VariacionAnual']\n",
    "\n",
    "X =['imae_com_car_Mensual_VariacionAnual',\n",
    "'imae_com_imp_vl_Mensual_VariacionAnual',\n",
    "'ipc1_viv_Mensual_VariacionAnual',\n",
    "'ipc1_trp_Mensual_VariacionAnual',\n",
    " 'imae_trn_pea_pn_Mensual_VariacionAnual',\n",
    "'imae_man_con_Mensual_VariacionAnual',\n",
    "]"
   ]
  },
  {
   "cell_type": "markdown",
   "metadata": {},
   "source": [
    "### Construccion de Base de datos"
   ]
  },
  {
   "cell_type": "code",
   "execution_count": 4,
   "metadata": {
    "scrolled": true
   },
   "outputs": [
    {
     "name": "stderr",
     "output_type": "stream",
     "text": [
      "C:\\Users\\eo\\Anaconda3\\lib\\site-packages\\pandas\\core\\series.py:679: RuntimeWarning: divide by zero encountered in log\n",
      "  result = getattr(ufunc, method)(*inputs, **kwargs)\n",
      "C:\\Users\\eo\\Anaconda3\\lib\\site-packages\\pandas\\core\\series.py:679: RuntimeWarning: invalid value encountered in log\n",
      "  result = getattr(ufunc, method)(*inputs, **kwargs)\n"
     ]
    }
   ],
   "source": [
    "bd_mensual_t,bd_trimestral_t,bd_anual_t,bd_all = BasedeDatos(rutaOrigen + 'bd_Panama.xlsx')"
   ]
  },
  {
   "cell_type": "markdown",
   "metadata": {},
   "source": [
    "###  Filtro de Kalman"
   ]
  },
  {
   "cell_type": "code",
   "execution_count": 5,
   "metadata": {
    "scrolled": true
   },
   "outputs": [],
   "source": [
    "def kalman_fed_nyc(bd_all, X, y, n_factors, params,initial_state_mean,initial_state_covariance, test_size):\n",
    "    import numpy as numpy\n",
    "    from pykalman import KalmanFilter\n",
    "\n",
    "    n_vars = len(y + X)\n",
    "    \n",
    "    ##############################################################################\n",
    "    #Data\n",
    "    \n",
    "    bd = bd_all[y + X]\n",
    "    size_drop = int(bd.shape[0]/3)\n",
    "    \n",
    "    bd = bd.drop(bd.index[\n",
    "                        (bd.index < bd.index[size_drop]) * \n",
    "                        (bd.isna().any(axis = 1).values)\n",
    "                        ])\n",
    "    \n",
    "    #Fijando base de referencia  en caso se haga un ejercicio de train test\n",
    "    bd_data = bd[y]\n",
    "    \n",
    "    \n",
    "    #No se recibe informacion test_size periodos\n",
    "    if test_size>0:\n",
    "        bd.loc[-test_size:,y] = np.nan\n",
    "    \n",
    "    ###############################################################################\n",
    "    #Demean data\n",
    "\n",
    "    mean = bd.mean()\n",
    "    \n",
    "    bd_demean = pd.DataFrame()\n",
    "    \n",
    "    for i in bd.columns:\n",
    "        bd_demean[i] =  bd[i] - mean[i]\n",
    "        \n",
    "    \n",
    "    ################################################################################\n",
    "    #Llenando data faltante\n",
    "\n",
    "    bd_demean = bd_demean.fillna(0)\n",
    "\n",
    "    #Parametros\n",
    "    phi   = params[0]\n",
    "    var_m = params[1]\n",
    "    rho   = params[2]\n",
    "    var_e = params[3]\n",
    "    beta  = params[4]\n",
    "\n",
    "    ###############################################\n",
    "    #Matriz de observables\n",
    "\n",
    "    H = []\n",
    "\n",
    "    for date in bd_demean.index:\n",
    "        aux = np.zeros([n_vars,n_factors+n_vars])\n",
    "        i_aux = np.eye(n_vars)\n",
    "        for i_var,var in enumerate(bd_demean.columns):\n",
    "            if (bd_demean.loc[date,var] != 0):\n",
    "                aux[i_var,:] = np.array(list(beta[i_var,:]) + list(i_aux[i_var,:]))\n",
    "        H.append(aux)\n",
    "\n",
    "\n",
    "\n",
    "    observation_offset = [0] * n_vars\n",
    "    observation_matrix = np.array(H)\n",
    "    observation_covariance =  np.zeros([n_vars,n_vars])\n",
    "\n",
    "    H_ = np.zeros([n_vars,n_factors+n_vars])\n",
    "    H_[:,:n_factors] = beta\n",
    "    H_[:,n_factors:] = np.eye(n_vars)\n",
    "    \n",
    "    ###############################################\n",
    "    #Transicion\n",
    "\n",
    "    #Interceptos\n",
    "    transition_offset = [0] * (n_factors + n_vars)\n",
    "\n",
    "    #Matriz de transicion\n",
    "    transition_matrix = np.zeros([n_factors + n_vars,n_factors + n_vars])\n",
    "    transition_matrix[:n_factors,:n_factors] = np.diag(phi)\n",
    "    transition_matrix[n_factors:,n_factors:] = np.diag(rho)\n",
    "\n",
    "    #Varianzas \n",
    "\n",
    "    transition_covariance = np.zeros([n_factors + n_vars,n_factors + n_vars])\n",
    "    transition_covariance[:n_factors,:n_factors] = np.diag(var_m)\n",
    "    transition_covariance[n_factors:,n_factors:] = np.diag(var_e)\n",
    "\n",
    "    ###############################################\n",
    "    #Estados iniciales\n",
    "    initial_state_mean = np.zeros([n_factors + n_vars])\n",
    "    initial_state_covariance = np.eye(n_factors + n_vars) * 0.01**2\n",
    "\n",
    "    # Creando filtro\n",
    "    kf = KalmanFilter(\n",
    "        transition_matrix, observation_matrix, \n",
    "        transition_covariance, observation_covariance,\n",
    "        transition_offset,observation_offset,\n",
    "        initial_state_mean, initial_state_covariance\n",
    "        ,random_state=1109\n",
    "    )\n",
    "\n",
    "    ll = kf.loglikelihood(bd_demean)\n",
    "\n",
    "    bd_S = pd.DataFrame(kf.smooth(bd_demean[y + X])[0], index = bd_demean.index).rename(columns = lambda y: 'NoObservale_Suavizada_' + str(y))\n",
    "    bd_F = pd.DataFrame(kf.filter(bd_demean[y + X])[0], index = bd_demean.index).rename(columns = lambda y: 'NoObservale_Filtrada_' + str(y))\n",
    "    bd_P = pd.DataFrame(kf.filter(bd_demean[y + X])[0] @ np.transpose(H_),index = bd_demean.index, columns = bd_demean.columns)\n",
    "    \n",
    "    \n",
    "    for i in bd_P.columns:\n",
    "        bd_P[i] = bd_P + mean[i]\n",
    "    \n",
    "    \n",
    "    return ll, kf, bd_S, bd_F, bd_P, bd, bd_data\n",
    "\n",
    "\n",
    "def t_params(h_params,n_vars,n_factors):\n",
    "    \n",
    "    phi = []\n",
    "    for x in h_params[0:n_factors]:\n",
    "        phi.append(x/(1+abs(x)))\n",
    "    \n",
    "    var_m = []\n",
    "    for x in h_params[n_factors:2*n_factors]:\n",
    "        var_m.append(x**2)\n",
    "    \n",
    "    \n",
    "    rho = []\n",
    "    for x in h_params[2*n_factors:2*n_factors+n_vars]:\n",
    "        rho.append(x/(1+abs(x)))\n",
    "    \n",
    "    \n",
    "    var_e = []\n",
    "    for x in h_params[2*n_factors+n_vars:2*n_factors+2*n_vars]:\n",
    "        var_e.append(x**2)\n",
    "    \n",
    "    \n",
    "    beta = np.array(h_params[2*n_factors+2*n_vars:]).reshape(n_vars,n_factors)\n",
    "    \n",
    "    params = [phi,var_m,rho,var_e,beta]\n",
    "    \n",
    "    return params\n",
    "\n",
    "def t_inv_param(params):\n",
    "    phi = params[0]\n",
    "    var_m = params[1]\n",
    "    rho = params[2]\n",
    "    var_e = params[3]\n",
    "    beta = params[4]\n",
    "    \n",
    "    \n",
    "    h_params = []\n",
    "    \n",
    "    for x in phi:\n",
    "        h_params.append(x/(1-x))\n",
    "    \n",
    "    \n",
    "    for x in var_m:\n",
    "        h_params.append(x**0.5)\n",
    "    \n",
    "    \n",
    "    for x in rho:\n",
    "        h_params.append(x/(1-x))\n",
    "    \n",
    "    \n",
    "    for x in var_e:\n",
    "        h_params.append(x**0.5)\n",
    "    \n",
    "    \n",
    "    \n",
    "    h_params = h_params + list(beta.flat[:])\n",
    "\n",
    "    return h_params\n",
    "\n",
    "def set_init_params(bd_all, X, y, n_factors,test_size):\n",
    "    from sklearn.decomposition import PCA\n",
    "    from sklearn.linear_model import LinearRegression\n",
    "\n",
    "    n_vars = len(y + X)\n",
    "    \n",
    "    \n",
    "    bd = bd_all[y + X]\n",
    "    bd = bd.dropna()\n",
    "    \n",
    "    #############################################################\n",
    "    #Componentes Principales\n",
    "    #############################################################\n",
    "    \n",
    "    PCA_IC = PCA(n_components=n_factors)\n",
    "    lin_reg = LinearRegression(fit_intercept = False)\n",
    "    \n",
    "    PC_IC = PCA_IC.fit_transform(bd)\n",
    "    \n",
    "    \n",
    "    #Beta\n",
    "    beta_ic = np.transpose(PCA_IC.components_)\n",
    "\n",
    "    \n",
    "    #Phi y sigma_m\n",
    "    phi_ic = []\n",
    "    var_m_ic = []\n",
    "\n",
    "\n",
    "    for j in range(n_factors):\n",
    "\n",
    "        lin_reg.fit(PC_IC[:-1,j].reshape(-1,1),PC_IC[1:,j].reshape(-1,1))\n",
    "        phi_ic.append(lin_reg.coef_[0,0])\n",
    "        var_m_ic.append(np.var(PC_IC[:,j])*(1-lin_reg.coef_[0,0]**2))\n",
    "\n",
    "    \n",
    "    #Errores de prediccion\n",
    "    \n",
    "    rho_ic = []\n",
    "    var_e_ic = []\n",
    "    \n",
    "    error = bd.values - PCA_IC.inverse_transform(PC_IC)\n",
    "    \n",
    "    for j in range(n_vars):\n",
    "        lin_reg.fit(error[:-1,j].reshape(-1,1),error[1:,j].reshape(-1,1))\n",
    "        rho_ic.append(lin_reg.coef_[0,0])\n",
    "        var_e_ic.append(np.var(error[:-1,j])*(1-lin_reg.coef_[0,0]**2))\n",
    "    \n",
    "    \n",
    "    initial_state_mean = PC_IC[0,:]\n",
    "    initial_state_covariance = np.diag(np.var(PC_IC,axis=0))\n",
    "    \n",
    "    params_ic = [phi_ic,var_m_ic,rho_ic,var_e_ic,beta_ic]\n",
    "        \n",
    "    h_params_ic =t_inv_param(params_ic)\n",
    "    \n",
    "    return params_ic, h_params_ic, initial_state_mean, initial_state_covariance"
   ]
  },
  {
   "cell_type": "markdown",
   "metadata": {},
   "source": [
    "# Estimacion y Resultados"
   ]
  },
  {
   "cell_type": "markdown",
   "metadata": {},
   "source": [
    "La estimacion del modelo se realiza usando el método de máxima verosimilitud, se busca maximizar la probabilidad de la ocurrencia de las variables, dados los parametros. Los resultados se guardan en un excel que luego será usado como insumo para la interpolación final del modelo.\n",
    "\n",
    "Para asegurar que el maximo hallado es uno global se usan distintos puntos iniciales para realizar la estimación."
   ]
  },
  {
   "cell_type": "code",
   "execution_count": 6,
   "metadata": {},
   "outputs": [],
   "source": [
    "test_size = 10\n",
    "n_factors= 1\n",
    "n_vars = len(X+y)\n"
   ]
  },
  {
   "cell_type": "code",
   "execution_count": 7,
   "metadata": {},
   "outputs": [
    {
     "data": {
      "text/plain": [
       "[<matplotlib.lines.Line2D at 0x288adc93588>]"
      ]
     },
     "execution_count": 7,
     "metadata": {},
     "output_type": "execute_result"
    },
    {
     "data": {
      "image/png": "[encoded data removed]",
      "text/plain": [
       "<Figure size 432x288 with 1 Axes>"
      ]
     },
     "metadata": {
      "needs_background": "light"
     },
     "output_type": "display_data"
    }
   ],
   "source": [
    "PCA_ = PCA(n_components=bd_all[y + X].shape[1])\n",
    "PCA_.fit(bd_all[y+X].dropna())\n",
    "plt.plot(PCA_.explained_variance_ratio_)"
   ]
  },
  {
   "cell_type": "code",
   "execution_count": 8,
   "metadata": {
    "scrolled": false
   },
   "outputs": [],
   "source": [
    "params_ic, h_params_ic_pc, initial_state_mean, initial_state_covariance= set_init_params(bd_all, X, y, n_factors,test_size)"
   ]
  },
  {
   "cell_type": "code",
   "execution_count": 9,
   "metadata": {},
   "outputs": [],
   "source": [
    "ll, kf, bd_S,bd_F, bd_P, bd,bd_data = kalman_fed_nyc(bd_all,X,y,n_factors,params_ic,\n",
    "                                             initial_state_mean,initial_state_covariance,test_size)\n"
   ]
  },
  {
   "cell_type": "code",
   "execution_count": 10,
   "metadata": {
    "scrolled": true
   },
   "outputs": [
    {
     "data": {
      "text/plain": [
       "<matplotlib.axes._subplots.AxesSubplot at 0x288adf00d48>"
      ]
     },
     "execution_count": 10,
     "metadata": {},
     "output_type": "execute_result"
    },
    {
     "data": {
      "image/png": "[encoded data removed]",
      "text/plain": [
       "<Figure size 432x288 with 1 Axes>"
      ]
     },
     "metadata": {
      "needs_background": "light"
     },
     "output_type": "display_data"
    }
   ],
   "source": [
    "bd_S[bd_S.columns[0:n_factors]].plot()"
   ]
  },
  {
   "cell_type": "code",
   "execution_count": 11,
   "metadata": {},
   "outputs": [
    {
     "data": {
      "image/png": "[encoded data removed]",
      "text/plain": [
       "<Figure size 432x288 with 1 Axes>"
      ]
     },
     "metadata": {
      "needs_background": "light"
     },
     "output_type": "display_data"
    }
   ],
   "source": [
    "bd_data.join(bd_P[y].rename(columns = lambda y: 'PRED_' + y)).plot()\n",
    "plt.show()"
   ]
  },
  {
   "cell_type": "code",
   "execution_count": 12,
   "metadata": {
    "scrolled": false
   },
   "outputs": [
    {
     "data": {
      "text/html": [
       "<div>\n",
       "<style scoped>\n",
       "    .dataframe tbody tr th:only-of-type {\n",
       "        vertical-align: middle;\n",
       "    }\n",
       "\n",
       "    .dataframe tbody tr th {\n",
       "        vertical-align: top;\n",
       "    }\n",
       "\n",
       "    .dataframe thead th {\n",
       "        text-align: right;\n",
       "    }\n",
       "</style>\n",
       "<table border=\"1\" class=\"dataframe\">\n",
       "  <thead>\n",
       "    <tr style=\"text-align: right;\">\n",
       "      <th></th>\n",
       "      <th>imae_Mensual_VariacionAnual</th>\n",
       "      <th>PRED_imae_Mensual_VariacionAnual</th>\n",
       "    </tr>\n",
       "    <tr>\n",
       "      <th>per</th>\n",
       "      <th></th>\n",
       "      <th></th>\n",
       "    </tr>\n",
       "  </thead>\n",
       "  <tbody>\n",
       "    <tr>\n",
       "      <th>2019-07-01</th>\n",
       "      <td>0.036311</td>\n",
       "      <td>0.036311</td>\n",
       "    </tr>\n",
       "    <tr>\n",
       "      <th>2019-08-01</th>\n",
       "      <td>0.031975</td>\n",
       "      <td>0.031975</td>\n",
       "    </tr>\n",
       "    <tr>\n",
       "      <th>2019-09-01</th>\n",
       "      <td>0.039755</td>\n",
       "      <td>0.035998</td>\n",
       "    </tr>\n",
       "    <tr>\n",
       "      <th>2019-10-01</th>\n",
       "      <td>0.033907</td>\n",
       "      <td>0.041727</td>\n",
       "    </tr>\n",
       "    <tr>\n",
       "      <th>2019-11-01</th>\n",
       "      <td>0.036890</td>\n",
       "      <td>0.040965</td>\n",
       "    </tr>\n",
       "    <tr>\n",
       "      <th>2019-12-01</th>\n",
       "      <td>0.009009</td>\n",
       "      <td>0.042022</td>\n",
       "    </tr>\n",
       "    <tr>\n",
       "      <th>2020-01-01</th>\n",
       "      <td>0.008547</td>\n",
       "      <td>0.041865</td>\n",
       "    </tr>\n",
       "    <tr>\n",
       "      <th>2020-02-01</th>\n",
       "      <td>0.124379</td>\n",
       "      <td>0.033479</td>\n",
       "    </tr>\n",
       "    <tr>\n",
       "      <th>2020-03-01</th>\n",
       "      <td>NaN</td>\n",
       "      <td>0.029707</td>\n",
       "    </tr>\n",
       "    <tr>\n",
       "      <th>2020-04-01</th>\n",
       "      <td>NaN</td>\n",
       "      <td>0.012311</td>\n",
       "    </tr>\n",
       "    <tr>\n",
       "      <th>2020-05-01</th>\n",
       "      <td>NaN</td>\n",
       "      <td>0.022212</td>\n",
       "    </tr>\n",
       "    <tr>\n",
       "      <th>2020-06-01</th>\n",
       "      <td>NaN</td>\n",
       "      <td>0.030201</td>\n",
       "    </tr>\n",
       "  </tbody>\n",
       "</table>\n",
       "</div>"
      ],
      "text/plain": [
       "            imae_Mensual_VariacionAnual  PRED_imae_Mensual_VariacionAnual\n",
       "per                                                                      \n",
       "2019-07-01                     0.036311                          0.036311\n",
       "2019-08-01                     0.031975                          0.031975\n",
       "2019-09-01                     0.039755                          0.035998\n",
       "2019-10-01                     0.033907                          0.041727\n",
       "2019-11-01                     0.036890                          0.040965\n",
       "2019-12-01                     0.009009                          0.042022\n",
       "2020-01-01                     0.008547                          0.041865\n",
       "2020-02-01                     0.124379                          0.033479\n",
       "2020-03-01                          NaN                          0.029707\n",
       "2020-04-01                          NaN                          0.012311\n",
       "2020-05-01                          NaN                          0.022212\n",
       "2020-06-01                          NaN                          0.030201"
      ]
     },
     "execution_count": 12,
     "metadata": {},
     "output_type": "execute_result"
    }
   ],
   "source": [
    "bd_data.join(bd_P[y].rename(columns = lambda y: 'PRED_' + y))[-12:]"
   ]
  },
  {
   "cell_type": "code",
   "execution_count": 13,
   "metadata": {},
   "outputs": [
    {
     "name": "stdout",
     "output_type": "stream",
     "text": [
      "[4.197781468683796, 0.22024267281827742, 1.0608919511627275, 0.9039629587695436, 1.1855216172553558, 4.243281914381501, 2.582517978500439, 6.383689188836771, 1.9755455412946865, 0.019762705066229024, 0.1683151753781082, 0.13994990175107924, 0.018816582803281103, 0.03983421976940416, 0.05853835296211141, 0.06470270599962406, 0.05947878964684668, 0.258997893256111, 0.22649371230242746, 0.041295436186065335, 0.07591982940867563, 0.10277399898544262, 0.9273895269754814]\n",
      "Warning: Maximum number of iterations has been exceeded.\n"
     ]
    }
   ],
   "source": [
    "from numdifftools import Jacobian, Hessian\n",
    "from scipy.optimize import minimize\n",
    "\n",
    "\n",
    "z_min = lambda params: -kalman_fed_nyc(bd_all,X,y,n_factors,t_params(params,len(X+y),n_factors),\n",
    "                                       initial_state_mean,initial_state_covariance,test_size)[0]\n",
    "z_hess = lambda params: -kalman_fed_nyc(bd_all,X,y,n_factors,params,\n",
    "                                        initial_state_mean,initial_state_covariance,test_size)[0]\n",
    "\n",
    "LogLikelihood = np.Inf\n",
    "\n",
    "x0 = h_params_ic_pc\n",
    "print(x0)\n",
    "x_opt_ = minimize(z_min, x0, method='Nelder-Mead', options={'disp': True,'maxiter':10})\n"
   ]
  },
  {
   "cell_type": "code",
   "execution_count": 14,
   "metadata": {
    "scrolled": true
   },
   "outputs": [],
   "source": [
    "ll, kf, bd_S,bd_F, bd_P, bd, bd_data = kalman_fed_nyc(bd_all,X,y,n_factors,t_params(x_opt_.x,len(X+y),n_factors),\n",
    "                                             initial_state_mean,initial_state_covariance,0)"
   ]
  },
  {
   "cell_type": "markdown",
   "metadata": {},
   "source": [
    "### Guardando el modelo como una lista"
   ]
  },
  {
   "cell_type": "code",
   "execution_count": 15,
   "metadata": {},
   "outputs": [],
   "source": [
    "Nowcast_model = [X,y,n_factors,t_params(x_opt_.x,len(X+y),n_factors),initial_state_mean,initial_state_covariance, bd, bd_data]\n",
    "\n",
    "import pickle\n",
    "\n",
    "with open(rutaModelos + 'nowcast_model.pkl', 'wb') as f:\n",
    "    pickle.dump(Nowcast_model, f)"
   ]
  },
  {
   "cell_type": "code",
   "execution_count": 16,
   "metadata": {},
   "outputs": [
    {
     "data": {
      "text/html": [
       "<div>\n",
       "<style scoped>\n",
       "    .dataframe tbody tr th:only-of-type {\n",
       "        vertical-align: middle;\n",
       "    }\n",
       "\n",
       "    .dataframe tbody tr th {\n",
       "        vertical-align: top;\n",
       "    }\n",
       "\n",
       "    .dataframe thead th {\n",
       "        text-align: right;\n",
       "    }\n",
       "</style>\n",
       "<table border=\"1\" class=\"dataframe\">\n",
       "  <thead>\n",
       "    <tr style=\"text-align: right;\">\n",
       "      <th></th>\n",
       "      <th>imae_Mensual_VariacionAnual</th>\n",
       "      <th>PRED_imae_Mensual_VariacionAnual</th>\n",
       "    </tr>\n",
       "    <tr>\n",
       "      <th>per</th>\n",
       "      <th></th>\n",
       "      <th></th>\n",
       "    </tr>\n",
       "  </thead>\n",
       "  <tbody>\n",
       "    <tr>\n",
       "      <th>2004-01-01</th>\n",
       "      <td>0.061897</td>\n",
       "      <td>0.061897</td>\n",
       "    </tr>\n",
       "    <tr>\n",
       "      <th>2004-02-01</th>\n",
       "      <td>0.049983</td>\n",
       "      <td>0.049983</td>\n",
       "    </tr>\n",
       "    <tr>\n",
       "      <th>2004-03-01</th>\n",
       "      <td>0.113209</td>\n",
       "      <td>0.113209</td>\n",
       "    </tr>\n",
       "    <tr>\n",
       "      <th>2004-04-01</th>\n",
       "      <td>0.083952</td>\n",
       "      <td>0.083952</td>\n",
       "    </tr>\n",
       "    <tr>\n",
       "      <th>2004-05-01</th>\n",
       "      <td>0.048694</td>\n",
       "      <td>0.048694</td>\n",
       "    </tr>\n",
       "    <tr>\n",
       "      <th>...</th>\n",
       "      <td>...</td>\n",
       "      <td>...</td>\n",
       "    </tr>\n",
       "    <tr>\n",
       "      <th>2020-02-01</th>\n",
       "      <td>0.124379</td>\n",
       "      <td>0.124379</td>\n",
       "    </tr>\n",
       "    <tr>\n",
       "      <th>2020-03-01</th>\n",
       "      <td>NaN</td>\n",
       "      <td>0.077771</td>\n",
       "    </tr>\n",
       "    <tr>\n",
       "      <th>2020-04-01</th>\n",
       "      <td>NaN</td>\n",
       "      <td>0.037940</td>\n",
       "    </tr>\n",
       "    <tr>\n",
       "      <th>2020-05-01</th>\n",
       "      <td>NaN</td>\n",
       "      <td>0.035957</td>\n",
       "    </tr>\n",
       "    <tr>\n",
       "      <th>2020-06-01</th>\n",
       "      <td>NaN</td>\n",
       "      <td>0.037660</td>\n",
       "    </tr>\n",
       "  </tbody>\n",
       "</table>\n",
       "<p>198 rows × 2 columns</p>\n",
       "</div>"
      ],
      "text/plain": [
       "            imae_Mensual_VariacionAnual  PRED_imae_Mensual_VariacionAnual\n",
       "per                                                                      \n",
       "2004-01-01                     0.061897                          0.061897\n",
       "2004-02-01                     0.049983                          0.049983\n",
       "2004-03-01                     0.113209                          0.113209\n",
       "2004-04-01                     0.083952                          0.083952\n",
       "2004-05-01                     0.048694                          0.048694\n",
       "...                                 ...                               ...\n",
       "2020-02-01                     0.124379                          0.124379\n",
       "2020-03-01                          NaN                          0.077771\n",
       "2020-04-01                          NaN                          0.037940\n",
       "2020-05-01                          NaN                          0.035957\n",
       "2020-06-01                          NaN                          0.037660\n",
       "\n",
       "[198 rows x 2 columns]"
      ]
     },
     "execution_count": 16,
     "metadata": {},
     "output_type": "execute_result"
    }
   ],
   "source": [
    "bd_data.join(bd_P[y].rename(columns = lambda y: 'PRED_' + y))"
   ]
  },
  {
   "cell_type": "markdown",
   "metadata": {},
   "source": [
    "### 2 etapa - proyecciones trimestrales "
   ]
  },
  {
   "cell_type": "code",
   "execution_count": 17,
   "metadata": {},
   "outputs": [],
   "source": [
    "from sklearn.linear_model import LinearRegression\n",
    "from sklearn.model_selection import train_test_split\n",
    "import pickle\n",
    "\n",
    "Linear_ = LinearRegression()\n",
    "\n",
    "bd_2etapa = bd_S[bd_S.columns[0]].groupby(pd.Grouper(freq = 'Q')).aggregate([lambda y: y[0], lambda y: y[1], lambda y: y[2]]).rename(columns = lambda y: y[8])\n",
    "X_ = bd_2etapa.columns\n",
    "bd_2etapa = bd_2etapa.join(bd_all[Z].groupby(pd.Grouper(freq = 'Q')).sum())\n",
    "bd_2etapa[bd_2etapa[Z] == 0 ] = np.nan\n",
    "bd_2etapa = bd_2etapa.dropna()\n",
    "\n",
    "\n",
    "bd_train, bd_test, y_train, y_test = train_test_split(bd_2etapa[X_],bd_2etapa[Z], random_state = 1109)\n",
    "\n",
    "#Fit de modelos lineales\n",
    "\n",
    "Linear_.fit(bd_train,y_train)\n",
    "\n",
    "\n",
    "\n",
    "with open(rutaModelos + 'nowcast_2stage.pkl', 'wb') as f:\n",
    "    pickle.dump([Z,Linear_], f)"
   ]
  },
  {
   "cell_type": "markdown",
   "metadata": {},
   "source": [
    "### Evaluacion Proyecciones Trimestrales"
   ]
  },
  {
   "cell_type": "code",
   "execution_count": 18,
   "metadata": {},
   "outputs": [
    {
     "data": {
      "image/png": "[encoded data removed]",
      "text/plain": [
       "<Figure size 432x288 with 1 Axes>"
      ]
     },
     "metadata": {
      "needs_background": "light"
     },
     "output_type": "display_data"
    },
    {
     "data": {
      "image/png": "[encoded data removed]",
      "text/plain": [
       "<Figure size 432x288 with 1 Axes>"
      ]
     },
     "metadata": {
      "needs_background": "light"
     },
     "output_type": "display_data"
    },
    {
     "data": {
      "text/plain": [
       "'R2 insample:0.37832266161198136'"
      ]
     },
     "metadata": {},
     "output_type": "display_data"
    },
    {
     "data": {
      "text/plain": [
       "'R2 outsample:0.42414889687368695'"
      ]
     },
     "metadata": {},
     "output_type": "display_data"
    }
   ],
   "source": [
    "bd_evaluacion = pd.DataFrame(Linear_.predict(bd_train), index = bd_train.index).append(pd.DataFrame(Linear_.predict(bd_test), index = bd_test.index)).sort_index()\n",
    "bd_evaluacion = bd_evaluacion.rename(columns = lambda y: 'Proyecciones')\n",
    "bd_evaluacion['Data'] = bd_2etapa[Z]\n",
    "\n",
    "bd_evaluacion.plot()\n",
    "plt.title('Proyeccion vs Realizado')\n",
    "plt.show()\n",
    "\n",
    "\n",
    "plt.scatter(y_train, Linear_.predict(bd_train))\n",
    "plt.scatter(y_test, Linear_.predict(bd_test))\n",
    "plt.legend(['Train','Test'])\n",
    "plt.title('Proyeccion vs Realizado')\n",
    "plt.show()\n",
    "\n",
    "#Scores outsamples\n",
    "\n",
    "display(\"R2 insample:\" + str(Linear_.score(bd_train,y_train)))\n",
    "display(\"R2 outsample:\" + str(Linear_.score(bd_test,y_test)))"
   ]
  }
 ],
 "metadata": {
  "kernelspec": {
   "display_name": "Python 3",
   "language": "python",
   "name": "python3"
  },
  "language_info": {
   "codemirror_mode": {
    "name": "ipython",
    "version": 3
   },
   "file_extension": ".py",
   "mimetype": "text/x-python",
   "name": "python",
   "nbconvert_exporter": "python",
   "pygments_lexer": "ipython3",
   "version": "3.7.6"
  },
  "varInspector": {
   "cols": {
    "lenName": 16,
    "lenType": 16,
    "lenVar": 40
   },
   "kernels_config": {
    "python": {
     "delete_cmd_postfix": "",
     "delete_cmd_prefix": "del ",
     "library": "var_list.py",
     "varRefreshCmd": "print(var_dic_list())"
    },
    "r": {
     "delete_cmd_postfix": ") ",
     "delete_cmd_prefix": "rm(",
     "library": "var_list.r",
     "varRefreshCmd": "cat(var_dic_list()) "
    }
   },
   "oldHeight": 122.4,
   "position": {
    "height": "40px",
    "left": "872.8px",
    "right": "20px",
    "top": "232px",
    "width": "250px"
   },
   "types_to_exclude": [
    "module",
    "function",
    "builtin_function_or_method",
    "instance",
    "_Feature"
   ],
   "varInspector_section_display": "none",
   "window_display": false
  }
 },
 "nbformat": 4,
 "nbformat_minor": 4
}
