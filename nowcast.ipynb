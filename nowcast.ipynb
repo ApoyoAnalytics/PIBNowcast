{
 "cells": [
  {
   "attachments": {
    "image.png": {
     "image/png": "[encoded data removed]"
    }
   },
   "cell_type": "markdown",
   "metadata": {},
   "source": [
    "![image.png](attachment:image.png)\n",
    "\n",
    "# Nowcast\n",
    "\n",
    "Esta libreria construye la estimacion de nowcast usando la metodologia especificada en el punto XX.XX del informe. Se busca obtener proyecciones trimestrales usando informacion mensual y que se pueda manejar el problema de informacion faltante sin tener que realizar proyecciones de las variables faltantes.\n",
    "\n",
    "Esta libreria realiza la estimacion yb la evaluación, pero no la proyeccion, la cual se realiza en la libreria proyeccion\n"
   ]
  },
  {
   "cell_type": "code",
   "execution_count": 1,
   "metadata": {},
   "outputs": [],
   "source": [
    "import pykalman as kalman\n",
    "import pandas as pd\n",
    "import datetime as dt\n",
    "import numpy as np\n",
    "import matplotlib.pyplot as plt\n",
    "import os\n",
    "\n",
    "from ipynb.fs.defs.ConstruccionBasedeDatos import BasedeDatos\n",
    "\n",
    "from statsmodels.tsa.arima_model import ARIMA\n",
    "import statsmodels.api as sm\n",
    "\n",
    "\n",
    "import seaborn as sns\n",
    "\n",
    "from sklearn.metrics import mean_absolute_error, mean_squared_error, r2_score\n",
    "from sklearn.decomposition import PCA"
   ]
  },
  {
   "cell_type": "code",
   "execution_count": 2,
   "metadata": {},
   "outputs": [],
   "source": [
    "rutaOrigen = 'inputs/'\n",
    "rutaDestino = 'resultados/'\n",
    "rutaModelos = 'model_nowcast/'\n"
   ]
  },
  {
   "cell_type": "markdown",
   "metadata": {},
   "source": [
    "## Variables a proyectar en frecuencia mensual"
   ]
  },
  {
   "cell_type": "code",
   "execution_count": 36,
   "metadata": {},
   "outputs": [],
   "source": [
    "#Variable trimestral\n",
    "\n",
    "Z = ['pbif_Trimestre_VariacionAnual']\n",
    "\n",
    "#Varaibles mensuales\n",
    "\n",
    "y = ['imae_Mensual_VariacionAnual']\n",
    "\n",
    "X =['imae_com_car_Mensual_VariacionAnual',\n",
    "'imae_com_imp_vl_Mensual_VariacionAnual',\n",
    "'ipc1_viv_Mensual_VariacionAnual',\n",
    "'ipc1_trp_Mensual_VariacionAnual'\n",
    "]"
   ]
  },
  {
   "cell_type": "markdown",
   "metadata": {},
   "source": [
    "### Construccion de Base de datos"
   ]
  },
  {
   "cell_type": "code",
   "execution_count": 37,
   "metadata": {
    "scrolled": true
   },
   "outputs": [
    {
     "name": "stderr",
     "output_type": "stream",
     "text": [
      "C:\\Users\\Usuario\\Anaconda3\\lib\\site-packages\\pandas\\core\\series.py:853: RuntimeWarning: divide by zero encountered in log\n",
      "  result = getattr(ufunc, method)(*inputs, **kwargs)\n",
      "C:\\Users\\Usuario\\Anaconda3\\lib\\site-packages\\pandas\\core\\series.py:853: RuntimeWarning: invalid value encountered in log\n",
      "  result = getattr(ufunc, method)(*inputs, **kwargs)\n"
     ]
    }
   ],
   "source": [
    "bd_mensual_t,bd_trimestral_t,bd_anual_t,bd_all = BasedeDatos(rutaOrigen + 'bd_Panama.xlsx')"
   ]
  },
  {
   "cell_type": "markdown",
   "metadata": {},
   "source": [
    "###  Filtro de Kalman"
   ]
  },
  {
   "cell_type": "code",
   "execution_count": 38,
   "metadata": {
    "scrolled": true
   },
   "outputs": [],
   "source": [
    "def kalman_fed_nyc(bd_all, X, y, n_factors, params,initial_state_mean,initial_state_covariance, test_size):\n",
    "    import numpy as numpy\n",
    "    from pykalman import KalmanFilter\n",
    "\n",
    "    n_vars = len(y + X)\n",
    "    \n",
    "    \n",
    "    ##############################################################################\n",
    "    #Data\n",
    "    \n",
    "    bd = bd_all[y + X]\n",
    "    bd = bd.dropna(how='all')\n",
    "    \n",
    "    size_drop = int(bd.shape[0]/3)\n",
    "    \n",
    "    bd = bd.drop(bd[:size_drop].index[np.sum(bd[:size_drop].isna(),axis = 1)>0])\n",
    "\n",
    "    #Fijando base de referencia  en caso se haga un ejercicio de train test\n",
    "    bd_data = bd[y]\n",
    "    \n",
    "    \n",
    "    #No se recibe informacion test_size periodos\n",
    "    if test_size>0:\n",
    "        bd.loc[-test_size:,y] = np.nan\n",
    "    \n",
    "    ###############################################################################\n",
    "    #Demean data\n",
    "\n",
    "    mean = bd.mean()\n",
    "    \n",
    "    bd_demean = pd.DataFrame()\n",
    "    \n",
    "    for i in bd.columns:\n",
    "        bd_demean[i] =  bd[i] - mean[i]\n",
    "        \n",
    "    \n",
    "    ################################################################################\n",
    "    #Llenando data faltante\n",
    "\n",
    "    bd_demean = bd_demean.fillna(0)\n",
    "\n",
    "    #Parametros\n",
    "    phi   = params[0]\n",
    "    var_m = params[1]\n",
    "    rho   = params[2]\n",
    "    var_e = params[3]\n",
    "    beta  = params[4]\n",
    "\n",
    "    ###############################################\n",
    "    #Matriz de observables\n",
    "\n",
    "    H = []\n",
    "\n",
    "    for date in bd_demean.index:\n",
    "        aux = np.zeros([n_vars,n_factors+n_vars])\n",
    "        i_aux = np.eye(n_vars)\n",
    "        for i_var,var in enumerate(bd_demean.columns):\n",
    "            if (bd_demean.loc[date,var] != 0):\n",
    "                aux[i_var,:] = np.array(list(beta[i_var,:]) + list(i_aux[i_var,:]))\n",
    "        H.append(aux)\n",
    "\n",
    "\n",
    "\n",
    "    observation_offset = [0] * n_vars\n",
    "    observation_matrix = np.array(H)\n",
    "    observation_covariance =  np.zeros([n_vars,n_vars])\n",
    "\n",
    "    H_ = np.zeros([n_vars,n_factors+n_vars])\n",
    "    H_[:,:n_factors] = beta\n",
    "    H_[:,n_factors:] = np.eye(n_vars)\n",
    "    \n",
    "    ###############################################\n",
    "    #Transicion\n",
    "\n",
    "    #Interceptos\n",
    "    transition_offset = [0] * (n_factors + n_vars)\n",
    "\n",
    "    #Matriz de transicion\n",
    "    transition_matrix = np.zeros([n_factors + n_vars,n_factors + n_vars])\n",
    "    transition_matrix[:n_factors,:n_factors] = np.diag(phi)\n",
    "    transition_matrix[n_factors:,n_factors:] = np.diag(rho)\n",
    "\n",
    "    #Varianzas \n",
    "\n",
    "    transition_covariance = np.zeros([n_factors + n_vars,n_factors + n_vars])\n",
    "    transition_covariance[:n_factors,:n_factors] = np.diag(var_m)\n",
    "    transition_covariance[n_factors:,n_factors:] = np.diag(var_e)\n",
    "\n",
    "    ###############################################\n",
    "    #Estados iniciales\n",
    "    initial_state_mean = np.zeros([n_factors + n_vars])\n",
    "    initial_state_covariance = np.eye(n_factors + n_vars) * 0.01**2\n",
    "\n",
    "    # Creando filtro\n",
    "    kf = KalmanFilter(\n",
    "        transition_matrix, observation_matrix, \n",
    "        transition_covariance, observation_covariance,\n",
    "        transition_offset,observation_offset,\n",
    "        initial_state_mean, initial_state_covariance\n",
    "        ,random_state=1109\n",
    "    )\n",
    "\n",
    "    ll = kf.loglikelihood(bd_demean)\n",
    "\n",
    "    bd_S = pd.DataFrame(kf.smooth(bd_demean[y + X])[0], index = bd_demean.index).rename(columns = lambda y: 'NoObservale_Suavizada_' + str(y))\n",
    "    bd_F = pd.DataFrame(kf.filter(bd_demean[y + X])[0], index = bd_demean.index).rename(columns = lambda y: 'NoObservale_Filtrada_' + str(y))\n",
    "    bd_P = pd.DataFrame(kf.filter(bd_demean[y + X])[0] @ np.transpose(H_),index = bd_demean.index, columns = bd_demean.columns)\n",
    "    \n",
    "    \n",
    "    for i in bd_P.columns:\n",
    "        bd_P[i] = bd_P + mean[i]\n",
    "    \n",
    "    \n",
    "    return ll, kf, bd_S, bd_F, bd_P, bd, bd_data\n",
    "\n",
    "\n",
    "def t_params(h_params,n_vars,n_factors):\n",
    "    \n",
    "    phi = []\n",
    "    for x in h_params[0:n_factors]:\n",
    "        phi.append(x/(1+abs(x)))\n",
    "    \n",
    "    var_m = []\n",
    "    for x in h_params[n_factors:2*n_factors]:\n",
    "        var_m.append(x**2)\n",
    "    \n",
    "    \n",
    "    rho = []\n",
    "    for x in h_params[2*n_factors:2*n_factors+n_vars]:\n",
    "        rho.append(x/(1+abs(x)))\n",
    "    \n",
    "    \n",
    "    var_e = []\n",
    "    for x in h_params[2*n_factors+n_vars:2*n_factors+2*n_vars]:\n",
    "        var_e.append(x**2)\n",
    "    \n",
    "    \n",
    "    beta = np.array(h_params[2*n_factors+2*n_vars:]).reshape(n_vars,n_factors)\n",
    "    \n",
    "    params = [phi,var_m,rho,var_e,beta]\n",
    "    \n",
    "    return params\n",
    "\n",
    "def t_inv_param(params):\n",
    "    phi = params[0]\n",
    "    var_m = params[1]\n",
    "    rho = params[2]\n",
    "    var_e = params[3]\n",
    "    beta = params[4]\n",
    "    \n",
    "    \n",
    "    h_params = []\n",
    "    \n",
    "    for x in phi:\n",
    "        h_params.append(x/(1-x))\n",
    "    \n",
    "    \n",
    "    for x in var_m:\n",
    "        h_params.append(x**0.5)\n",
    "    \n",
    "    \n",
    "    for x in rho:\n",
    "        h_params.append(x/(1-x))\n",
    "    \n",
    "    \n",
    "    for x in var_e:\n",
    "        h_params.append(x**0.5)\n",
    "    \n",
    "    \n",
    "    \n",
    "    h_params = h_params + list(beta.flat[:])\n",
    "\n",
    "    return h_params\n",
    "\n",
    "def set_init_params(bd_all, X, y, n_factors,test_size):\n",
    "    from sklearn.decomposition import PCA\n",
    "    from sklearn.linear_model import LinearRegression\n",
    "\n",
    "    n_vars = len(y + X)\n",
    "    \n",
    "    \n",
    "    bd = bd_all[y + X]\n",
    "    bd = bd.dropna()\n",
    "    \n",
    "    #############################################################\n",
    "    #Componentes Principales\n",
    "    #############################################################\n",
    "    \n",
    "    PCA_IC = PCA(n_components=n_factors)\n",
    "    lin_reg = LinearRegression(fit_intercept = False)\n",
    "    \n",
    "    PC_IC = PCA_IC.fit_transform(bd)\n",
    "    \n",
    "    \n",
    "    #Beta\n",
    "    beta_ic = np.transpose(PCA_IC.components_)\n",
    "\n",
    "    \n",
    "    #Phi y sigma_m\n",
    "    phi_ic = []\n",
    "    var_m_ic = []\n",
    "\n",
    "\n",
    "    for j in range(n_factors):\n",
    "\n",
    "        lin_reg.fit(PC_IC[:-1,j].reshape(-1,1),PC_IC[1:,j].reshape(-1,1))\n",
    "        phi_ic.append(lin_reg.coef_[0,0])\n",
    "        var_m_ic.append(np.var(PC_IC[:,j])*(1-lin_reg.coef_[0,0]**2))\n",
    "\n",
    "    \n",
    "    #Errores de prediccion\n",
    "    \n",
    "    rho_ic = []\n",
    "    var_e_ic = []\n",
    "    \n",
    "    error = bd.values - PCA_IC.inverse_transform(PC_IC)\n",
    "    \n",
    "    for j in range(n_vars):\n",
    "        lin_reg.fit(error[:-1,j].reshape(-1,1),error[1:,j].reshape(-1,1))\n",
    "        rho_ic.append(lin_reg.coef_[0,0])\n",
    "        var_e_ic.append(np.var(error[:-1,j])*(1-lin_reg.coef_[0,0]**2))\n",
    "    \n",
    "    \n",
    "    initial_state_mean = PC_IC[0,:]\n",
    "    initial_state_covariance = np.diag(np.var(PC_IC,axis=0))\n",
    "    \n",
    "    params_ic = [phi_ic,var_m_ic,rho_ic,var_e_ic,beta_ic]\n",
    "        \n",
    "    h_params_ic =t_inv_param(params_ic)\n",
    "    \n",
    "    return params_ic, h_params_ic, initial_state_mean, initial_state_covariance"
   ]
  },
  {
   "cell_type": "markdown",
   "metadata": {},
   "source": [
    "# Estimacion y Resultados"
   ]
  },
  {
   "cell_type": "markdown",
   "metadata": {},
   "source": [
    "La estimacion del modelo se realiza usando el método de máxima verosimilitud, se busca maximizar la probabilidad de la ocurrencia de las variables, dados los parametros. Los resultados se guardan en un excel que luego será usado como insumo para la interpolación final del modelo.\n",
    "\n",
    "Para asegurar que el maximo hallado es uno global se usan distintos puntos iniciales para realizar la estimación."
   ]
  },
  {
   "cell_type": "code",
   "execution_count": 47,
   "metadata": {},
   "outputs": [],
   "source": [
    "test_size = 10\n",
    "n_factors= 1\n",
    "n_vars = len(X+y)\n"
   ]
  },
  {
   "cell_type": "code",
   "execution_count": 48,
   "metadata": {},
   "outputs": [
    {
     "data": {
      "text/plain": [
       "[<matplotlib.lines.Line2D at 0x2a5b3dd2448>]"
      ]
     },
     "execution_count": 48,
     "metadata": {},
     "output_type": "execute_result"
    },
    {
     "data": {
      "image/png": "[encoded data removed]",
      "text/plain": [
       "<Figure size 432x288 with 1 Axes>"
      ]
     },
     "metadata": {
      "needs_background": "light"
     },
     "output_type": "display_data"
    }
   ],
   "source": [
    "PCA_ = PCA(n_components=bd_all[y + X].shape[1])\n",
    "PCA_.fit(bd_all[y+X].dropna())\n",
    "plt.plot(PCA_.explained_variance_ratio_)"
   ]
  },
  {
   "cell_type": "code",
   "execution_count": 49,
   "metadata": {
    "scrolled": false
   },
   "outputs": [],
   "source": [
    "params_ic, h_params_ic_pc, initial_state_mean, initial_state_covariance= set_init_params(bd_all, X, y, n_factors,test_size)"
   ]
  },
  {
   "cell_type": "code",
   "execution_count": 50,
   "metadata": {},
   "outputs": [],
   "source": [
    "ll, kf, bd_S,bd_F, bd_P, bd,bd_data = kalman_fed_nyc(bd_all,X,y,n_factors,params_ic,\n",
    "                                             initial_state_mean,initial_state_covariance,test_size)\n"
   ]
  },
  {
   "cell_type": "code",
   "execution_count": 51,
   "metadata": {
    "scrolled": true
   },
   "outputs": [
    {
     "data": {
      "text/plain": [
       "<matplotlib.axes._subplots.AxesSubplot at 0x2a5b367f048>"
      ]
     },
     "execution_count": 51,
     "metadata": {},
     "output_type": "execute_result"
    },
    {
     "data": {
      "image/png": "[encoded data removed]",
      "text/plain": [
       "<Figure size 432x288 with 1 Axes>"
      ]
     },
     "metadata": {
      "needs_background": "light"
     },
     "output_type": "display_data"
    }
   ],
   "source": [
    "bd_S[bd_S.columns[0:n_factors]].plot()"
   ]
  },
  {
   "cell_type": "code",
   "execution_count": 52,
   "metadata": {},
   "outputs": [
    {
     "data": {
      "image/png": "[encoded data removed]",
      "text/plain": [
       "<Figure size 432x288 with 1 Axes>"
      ]
     },
     "metadata": {
      "needs_background": "light"
     },
     "output_type": "display_data"
    }
   ],
   "source": [
    "bd_data.join(bd_P[y].rename(columns = lambda y: 'PRED_' + y)).plot()\n",
    "plt.show()"
   ]
  },
  {
   "cell_type": "code",
   "execution_count": 45,
   "metadata": {
    "scrolled": false
   },
   "outputs": [
    {
     "data": {
      "text/html": [
       "<div>\n",
       "<style scoped>\n",
       "    .dataframe tbody tr th:only-of-type {\n",
       "        vertical-align: middle;\n",
       "    }\n",
       "\n",
       "    .dataframe tbody tr th {\n",
       "        vertical-align: top;\n",
       "    }\n",
       "\n",
       "    .dataframe thead th {\n",
       "        text-align: right;\n",
       "    }\n",
       "</style>\n",
       "<table border=\"1\" class=\"dataframe\">\n",
       "  <thead>\n",
       "    <tr style=\"text-align: right;\">\n",
       "      <th></th>\n",
       "      <th>imae_Mensual_VariacionAnual</th>\n",
       "      <th>PRED_imae_Mensual_VariacionAnual</th>\n",
       "    </tr>\n",
       "    <tr>\n",
       "      <th>per</th>\n",
       "      <th></th>\n",
       "      <th></th>\n",
       "    </tr>\n",
       "  </thead>\n",
       "  <tbody>\n",
       "    <tr>\n",
       "      <td>2019-01-01</td>\n",
       "      <td>0.035738</td>\n",
       "      <td>0.035738</td>\n",
       "    </tr>\n",
       "    <tr>\n",
       "      <td>2019-02-01</td>\n",
       "      <td>0.037358</td>\n",
       "      <td>0.037358</td>\n",
       "    </tr>\n",
       "    <tr>\n",
       "      <td>2019-03-01</td>\n",
       "      <td>0.029596</td>\n",
       "      <td>0.029596</td>\n",
       "    </tr>\n",
       "    <tr>\n",
       "      <td>2019-04-01</td>\n",
       "      <td>0.029352</td>\n",
       "      <td>0.029352</td>\n",
       "    </tr>\n",
       "    <tr>\n",
       "      <td>2019-05-01</td>\n",
       "      <td>0.023801</td>\n",
       "      <td>0.023801</td>\n",
       "    </tr>\n",
       "    <tr>\n",
       "      <td>2019-06-01</td>\n",
       "      <td>0.029463</td>\n",
       "      <td>0.029463</td>\n",
       "    </tr>\n",
       "    <tr>\n",
       "      <td>2019-07-01</td>\n",
       "      <td>0.036311</td>\n",
       "      <td>0.036311</td>\n",
       "    </tr>\n",
       "    <tr>\n",
       "      <td>2019-08-01</td>\n",
       "      <td>0.031975</td>\n",
       "      <td>0.031975</td>\n",
       "    </tr>\n",
       "    <tr>\n",
       "      <td>2019-09-01</td>\n",
       "      <td>0.039755</td>\n",
       "      <td>0.039755</td>\n",
       "    </tr>\n",
       "    <tr>\n",
       "      <td>2019-10-01</td>\n",
       "      <td>0.033907</td>\n",
       "      <td>0.033907</td>\n",
       "    </tr>\n",
       "    <tr>\n",
       "      <td>2019-11-01</td>\n",
       "      <td>0.036137</td>\n",
       "      <td>0.036137</td>\n",
       "    </tr>\n",
       "    <tr>\n",
       "      <td>2019-12-01</td>\n",
       "      <td>NaN</td>\n",
       "      <td>0.037465</td>\n",
       "    </tr>\n",
       "  </tbody>\n",
       "</table>\n",
       "</div>"
      ],
      "text/plain": [
       "            imae_Mensual_VariacionAnual  PRED_imae_Mensual_VariacionAnual\n",
       "per                                                                      \n",
       "2019-01-01                     0.035738                          0.035738\n",
       "2019-02-01                     0.037358                          0.037358\n",
       "2019-03-01                     0.029596                          0.029596\n",
       "2019-04-01                     0.029352                          0.029352\n",
       "2019-05-01                     0.023801                          0.023801\n",
       "2019-06-01                     0.029463                          0.029463\n",
       "2019-07-01                     0.036311                          0.036311\n",
       "2019-08-01                     0.031975                          0.031975\n",
       "2019-09-01                     0.039755                          0.039755\n",
       "2019-10-01                     0.033907                          0.033907\n",
       "2019-11-01                     0.036137                          0.036137\n",
       "2019-12-01                          NaN                          0.037465"
      ]
     },
     "execution_count": 45,
     "metadata": {},
     "output_type": "execute_result"
    }
   ],
   "source": [
    "bd_data.join(bd_P[y].rename(columns = lambda y: 'PRED_' + y))[-12:]"
   ]
  },
  {
   "cell_type": "code",
   "execution_count": 46,
   "metadata": {},
   "outputs": [
    {
     "name": "stdout",
     "output_type": "stream",
     "text": [
      "[1.6326571904895693, 0.1965555970336618, 0.854314225259663, 0.49133476977101614, 0.4418508971422471, 1.895243172417294, 1.3548585696871427, 0.020562914485482593, 0.08371109792821999, 0.10424407426927614, 0.02209072933208795, 0.04402841540562478, 0.0875048259366203, 0.7762118940326693, 0.603163872395658, 0.08095974297644265, 0.13955953587583927]\n"
     ]
    },
    {
     "ename": "KeyboardInterrupt",
     "evalue": "",
     "output_type": "error",
     "traceback": [
      "\u001b[1;31m---------------------------------------------------------------------------\u001b[0m",
      "\u001b[1;31mKeyboardInterrupt\u001b[0m                         Traceback (most recent call last)",
      "\u001b[1;32m<ipython-input-46-786bd7a09891>\u001b[0m in \u001b[0;36m<module>\u001b[1;34m\u001b[0m\n\u001b[0;32m     12\u001b[0m \u001b[0mx0\u001b[0m \u001b[1;33m=\u001b[0m \u001b[0mh_params_ic_pc\u001b[0m\u001b[1;33m\u001b[0m\u001b[1;33m\u001b[0m\u001b[0m\n\u001b[0;32m     13\u001b[0m \u001b[0mprint\u001b[0m\u001b[1;33m(\u001b[0m\u001b[0mx0\u001b[0m\u001b[1;33m)\u001b[0m\u001b[1;33m\u001b[0m\u001b[1;33m\u001b[0m\u001b[0m\n\u001b[1;32m---> 14\u001b[1;33m \u001b[0mx_opt_\u001b[0m \u001b[1;33m=\u001b[0m \u001b[0mminimize\u001b[0m\u001b[1;33m(\u001b[0m\u001b[0mz_min\u001b[0m\u001b[1;33m,\u001b[0m \u001b[0mx0\u001b[0m\u001b[1;33m,\u001b[0m \u001b[0mmethod\u001b[0m\u001b[1;33m=\u001b[0m\u001b[1;34m'Nelder-Mead'\u001b[0m\u001b[1;33m,\u001b[0m \u001b[0moptions\u001b[0m\u001b[1;33m=\u001b[0m\u001b[1;33m{\u001b[0m\u001b[1;34m'disp'\u001b[0m\u001b[1;33m:\u001b[0m \u001b[1;32mTrue\u001b[0m\u001b[1;33m,\u001b[0m\u001b[1;34m'maxiter'\u001b[0m\u001b[1;33m:\u001b[0m\u001b[1;36m10000\u001b[0m\u001b[1;33m}\u001b[0m\u001b[1;33m)\u001b[0m\u001b[1;33m\u001b[0m\u001b[1;33m\u001b[0m\u001b[0m\n\u001b[0m",
      "\u001b[1;32m~\\Anaconda3\\lib\\site-packages\\scipy\\optimize\\_minimize.py\u001b[0m in \u001b[0;36mminimize\u001b[1;34m(fun, x0, args, method, jac, hess, hessp, bounds, constraints, tol, callback, options)\u001b[0m\n\u001b[0;32m    596\u001b[0m \u001b[1;33m\u001b[0m\u001b[0m\n\u001b[0;32m    597\u001b[0m     \u001b[1;32mif\u001b[0m \u001b[0mmeth\u001b[0m \u001b[1;33m==\u001b[0m \u001b[1;34m'nelder-mead'\u001b[0m\u001b[1;33m:\u001b[0m\u001b[1;33m\u001b[0m\u001b[1;33m\u001b[0m\u001b[0m\n\u001b[1;32m--> 598\u001b[1;33m         \u001b[1;32mreturn\u001b[0m \u001b[0m_minimize_neldermead\u001b[0m\u001b[1;33m(\u001b[0m\u001b[0mfun\u001b[0m\u001b[1;33m,\u001b[0m \u001b[0mx0\u001b[0m\u001b[1;33m,\u001b[0m \u001b[0margs\u001b[0m\u001b[1;33m,\u001b[0m \u001b[0mcallback\u001b[0m\u001b[1;33m,\u001b[0m \u001b[1;33m**\u001b[0m\u001b[0moptions\u001b[0m\u001b[1;33m)\u001b[0m\u001b[1;33m\u001b[0m\u001b[1;33m\u001b[0m\u001b[0m\n\u001b[0m\u001b[0;32m    599\u001b[0m     \u001b[1;32melif\u001b[0m \u001b[0mmeth\u001b[0m \u001b[1;33m==\u001b[0m \u001b[1;34m'powell'\u001b[0m\u001b[1;33m:\u001b[0m\u001b[1;33m\u001b[0m\u001b[1;33m\u001b[0m\u001b[0m\n\u001b[0;32m    600\u001b[0m         \u001b[1;32mreturn\u001b[0m \u001b[0m_minimize_powell\u001b[0m\u001b[1;33m(\u001b[0m\u001b[0mfun\u001b[0m\u001b[1;33m,\u001b[0m \u001b[0mx0\u001b[0m\u001b[1;33m,\u001b[0m \u001b[0margs\u001b[0m\u001b[1;33m,\u001b[0m \u001b[0mcallback\u001b[0m\u001b[1;33m,\u001b[0m \u001b[1;33m**\u001b[0m\u001b[0moptions\u001b[0m\u001b[1;33m)\u001b[0m\u001b[1;33m\u001b[0m\u001b[1;33m\u001b[0m\u001b[0m\n",
      "\u001b[1;32m~\\Anaconda3\\lib\\site-packages\\scipy\\optimize\\optimize.py\u001b[0m in \u001b[0;36m_minimize_neldermead\u001b[1;34m(func, x0, args, callback, maxiter, maxfev, disp, return_all, initial_simplex, xatol, fatol, adaptive, **unknown_options)\u001b[0m\n\u001b[0;32m    584\u001b[0m \u001b[1;33m\u001b[0m\u001b[0m\n\u001b[0;32m    585\u001b[0m     \u001b[1;32mfor\u001b[0m \u001b[0mk\u001b[0m \u001b[1;32min\u001b[0m \u001b[0mrange\u001b[0m\u001b[1;33m(\u001b[0m\u001b[0mN\u001b[0m \u001b[1;33m+\u001b[0m \u001b[1;36m1\u001b[0m\u001b[1;33m)\u001b[0m\u001b[1;33m:\u001b[0m\u001b[1;33m\u001b[0m\u001b[1;33m\u001b[0m\u001b[0m\n\u001b[1;32m--> 586\u001b[1;33m         \u001b[0mfsim\u001b[0m\u001b[1;33m[\u001b[0m\u001b[0mk\u001b[0m\u001b[1;33m]\u001b[0m \u001b[1;33m=\u001b[0m \u001b[0mfunc\u001b[0m\u001b[1;33m(\u001b[0m\u001b[0msim\u001b[0m\u001b[1;33m[\u001b[0m\u001b[0mk\u001b[0m\u001b[1;33m]\u001b[0m\u001b[1;33m)\u001b[0m\u001b[1;33m\u001b[0m\u001b[1;33m\u001b[0m\u001b[0m\n\u001b[0m\u001b[0;32m    587\u001b[0m \u001b[1;33m\u001b[0m\u001b[0m\n\u001b[0;32m    588\u001b[0m     \u001b[0mind\u001b[0m \u001b[1;33m=\u001b[0m \u001b[0mnumpy\u001b[0m\u001b[1;33m.\u001b[0m\u001b[0margsort\u001b[0m\u001b[1;33m(\u001b[0m\u001b[0mfsim\u001b[0m\u001b[1;33m)\u001b[0m\u001b[1;33m\u001b[0m\u001b[1;33m\u001b[0m\u001b[0m\n",
      "\u001b[1;32m~\\Anaconda3\\lib\\site-packages\\scipy\\optimize\\optimize.py\u001b[0m in \u001b[0;36mfunction_wrapper\u001b[1;34m(*wrapper_args)\u001b[0m\n\u001b[0;32m    325\u001b[0m     \u001b[1;32mdef\u001b[0m \u001b[0mfunction_wrapper\u001b[0m\u001b[1;33m(\u001b[0m\u001b[1;33m*\u001b[0m\u001b[0mwrapper_args\u001b[0m\u001b[1;33m)\u001b[0m\u001b[1;33m:\u001b[0m\u001b[1;33m\u001b[0m\u001b[1;33m\u001b[0m\u001b[0m\n\u001b[0;32m    326\u001b[0m         \u001b[0mncalls\u001b[0m\u001b[1;33m[\u001b[0m\u001b[1;36m0\u001b[0m\u001b[1;33m]\u001b[0m \u001b[1;33m+=\u001b[0m \u001b[1;36m1\u001b[0m\u001b[1;33m\u001b[0m\u001b[1;33m\u001b[0m\u001b[0m\n\u001b[1;32m--> 327\u001b[1;33m         \u001b[1;32mreturn\u001b[0m \u001b[0mfunction\u001b[0m\u001b[1;33m(\u001b[0m\u001b[1;33m*\u001b[0m\u001b[1;33m(\u001b[0m\u001b[0mwrapper_args\u001b[0m \u001b[1;33m+\u001b[0m \u001b[0margs\u001b[0m\u001b[1;33m)\u001b[0m\u001b[1;33m)\u001b[0m\u001b[1;33m\u001b[0m\u001b[1;33m\u001b[0m\u001b[0m\n\u001b[0m\u001b[0;32m    328\u001b[0m \u001b[1;33m\u001b[0m\u001b[0m\n\u001b[0;32m    329\u001b[0m     \u001b[1;32mreturn\u001b[0m \u001b[0mncalls\u001b[0m\u001b[1;33m,\u001b[0m \u001b[0mfunction_wrapper\u001b[0m\u001b[1;33m\u001b[0m\u001b[1;33m\u001b[0m\u001b[0m\n",
      "\u001b[1;32m<ipython-input-46-786bd7a09891>\u001b[0m in \u001b[0;36m<lambda>\u001b[1;34m(params)\u001b[0m\n\u001b[0;32m      4\u001b[0m \u001b[1;33m\u001b[0m\u001b[0m\n\u001b[0;32m      5\u001b[0m z_min = lambda params: -kalman_fed_nyc(bd_all,X,y,n_factors,t_params(params,len(X+y),n_factors),\n\u001b[1;32m----> 6\u001b[1;33m                                        initial_state_mean,initial_state_covariance,test_size)[0]\n\u001b[0m\u001b[0;32m      7\u001b[0m z_hess = lambda params: -kalman_fed_nyc(bd_all,X,y,n_factors,params,\n\u001b[0;32m      8\u001b[0m                                         initial_state_mean,initial_state_covariance,test_size)[0]\n",
      "\u001b[1;32m<ipython-input-38-01c49798b33a>\u001b[0m in \u001b[0;36mkalman_fed_nyc\u001b[1;34m(bd_all, X, y, n_factors, params, initial_state_mean, initial_state_covariance, test_size)\u001b[0m\n\u001b[0;32m    103\u001b[0m     \u001b[0mll\u001b[0m \u001b[1;33m=\u001b[0m \u001b[0mkf\u001b[0m\u001b[1;33m.\u001b[0m\u001b[0mloglikelihood\u001b[0m\u001b[1;33m(\u001b[0m\u001b[0mbd_demean\u001b[0m\u001b[1;33m)\u001b[0m\u001b[1;33m\u001b[0m\u001b[1;33m\u001b[0m\u001b[0m\n\u001b[0;32m    104\u001b[0m \u001b[1;33m\u001b[0m\u001b[0m\n\u001b[1;32m--> 105\u001b[1;33m     \u001b[0mbd_S\u001b[0m \u001b[1;33m=\u001b[0m \u001b[0mpd\u001b[0m\u001b[1;33m.\u001b[0m\u001b[0mDataFrame\u001b[0m\u001b[1;33m(\u001b[0m\u001b[0mkf\u001b[0m\u001b[1;33m.\u001b[0m\u001b[0msmooth\u001b[0m\u001b[1;33m(\u001b[0m\u001b[0mbd_demean\u001b[0m\u001b[1;33m[\u001b[0m\u001b[0my\u001b[0m \u001b[1;33m+\u001b[0m \u001b[0mX\u001b[0m\u001b[1;33m]\u001b[0m\u001b[1;33m)\u001b[0m\u001b[1;33m[\u001b[0m\u001b[1;36m0\u001b[0m\u001b[1;33m]\u001b[0m\u001b[1;33m,\u001b[0m \u001b[0mindex\u001b[0m \u001b[1;33m=\u001b[0m \u001b[0mbd_demean\u001b[0m\u001b[1;33m.\u001b[0m\u001b[0mindex\u001b[0m\u001b[1;33m)\u001b[0m\u001b[1;33m.\u001b[0m\u001b[0mrename\u001b[0m\u001b[1;33m(\u001b[0m\u001b[0mcolumns\u001b[0m \u001b[1;33m=\u001b[0m \u001b[1;32mlambda\u001b[0m \u001b[0my\u001b[0m\u001b[1;33m:\u001b[0m \u001b[1;34m'NoObservale_Suavizada_'\u001b[0m \u001b[1;33m+\u001b[0m \u001b[0mstr\u001b[0m\u001b[1;33m(\u001b[0m\u001b[0my\u001b[0m\u001b[1;33m)\u001b[0m\u001b[1;33m)\u001b[0m\u001b[1;33m\u001b[0m\u001b[1;33m\u001b[0m\u001b[0m\n\u001b[0m\u001b[0;32m    106\u001b[0m     \u001b[0mbd_F\u001b[0m \u001b[1;33m=\u001b[0m \u001b[0mpd\u001b[0m\u001b[1;33m.\u001b[0m\u001b[0mDataFrame\u001b[0m\u001b[1;33m(\u001b[0m\u001b[0mkf\u001b[0m\u001b[1;33m.\u001b[0m\u001b[0mfilter\u001b[0m\u001b[1;33m(\u001b[0m\u001b[0mbd_demean\u001b[0m\u001b[1;33m[\u001b[0m\u001b[0my\u001b[0m \u001b[1;33m+\u001b[0m \u001b[0mX\u001b[0m\u001b[1;33m]\u001b[0m\u001b[1;33m)\u001b[0m\u001b[1;33m[\u001b[0m\u001b[1;36m0\u001b[0m\u001b[1;33m]\u001b[0m\u001b[1;33m,\u001b[0m \u001b[0mindex\u001b[0m \u001b[1;33m=\u001b[0m \u001b[0mbd_demean\u001b[0m\u001b[1;33m.\u001b[0m\u001b[0mindex\u001b[0m\u001b[1;33m)\u001b[0m\u001b[1;33m.\u001b[0m\u001b[0mrename\u001b[0m\u001b[1;33m(\u001b[0m\u001b[0mcolumns\u001b[0m \u001b[1;33m=\u001b[0m \u001b[1;32mlambda\u001b[0m \u001b[0my\u001b[0m\u001b[1;33m:\u001b[0m \u001b[1;34m'NoObservale_Filtrada_'\u001b[0m \u001b[1;33m+\u001b[0m \u001b[0mstr\u001b[0m\u001b[1;33m(\u001b[0m\u001b[0my\u001b[0m\u001b[1;33m)\u001b[0m\u001b[1;33m)\u001b[0m\u001b[1;33m\u001b[0m\u001b[1;33m\u001b[0m\u001b[0m\n\u001b[0;32m    107\u001b[0m     \u001b[0mbd_P\u001b[0m \u001b[1;33m=\u001b[0m \u001b[0mpd\u001b[0m\u001b[1;33m.\u001b[0m\u001b[0mDataFrame\u001b[0m\u001b[1;33m(\u001b[0m\u001b[0mkf\u001b[0m\u001b[1;33m.\u001b[0m\u001b[0mfilter\u001b[0m\u001b[1;33m(\u001b[0m\u001b[0mbd_demean\u001b[0m\u001b[1;33m[\u001b[0m\u001b[0my\u001b[0m \u001b[1;33m+\u001b[0m \u001b[0mX\u001b[0m\u001b[1;33m]\u001b[0m\u001b[1;33m)\u001b[0m\u001b[1;33m[\u001b[0m\u001b[1;36m0\u001b[0m\u001b[1;33m]\u001b[0m \u001b[1;33m@\u001b[0m \u001b[0mnp\u001b[0m\u001b[1;33m.\u001b[0m\u001b[0mtranspose\u001b[0m\u001b[1;33m(\u001b[0m\u001b[0mH_\u001b[0m\u001b[1;33m)\u001b[0m\u001b[1;33m,\u001b[0m\u001b[0mindex\u001b[0m \u001b[1;33m=\u001b[0m \u001b[0mbd_demean\u001b[0m\u001b[1;33m.\u001b[0m\u001b[0mindex\u001b[0m\u001b[1;33m,\u001b[0m \u001b[0mcolumns\u001b[0m \u001b[1;33m=\u001b[0m \u001b[0mbd_demean\u001b[0m\u001b[1;33m.\u001b[0m\u001b[0mcolumns\u001b[0m\u001b[1;33m)\u001b[0m\u001b[1;33m\u001b[0m\u001b[1;33m\u001b[0m\u001b[0m\n",
      "\u001b[1;32m~\\Anaconda3\\lib\\site-packages\\pykalman\\standard.py\u001b[0m in \u001b[0;36msmooth\u001b[1;34m(self, X)\u001b[0m\n\u001b[0;32m   1326\u001b[0m                 \u001b[0mtransition_covariance\u001b[0m\u001b[1;33m,\u001b[0m \u001b[0mobservation_covariance\u001b[0m\u001b[1;33m,\u001b[0m\u001b[1;33m\u001b[0m\u001b[1;33m\u001b[0m\u001b[0m\n\u001b[0;32m   1327\u001b[0m                 \u001b[0mtransition_offsets\u001b[0m\u001b[1;33m,\u001b[0m \u001b[0mobservation_offsets\u001b[0m\u001b[1;33m,\u001b[0m\u001b[1;33m\u001b[0m\u001b[1;33m\u001b[0m\u001b[0m\n\u001b[1;32m-> 1328\u001b[1;33m                 \u001b[0minitial_state_mean\u001b[0m\u001b[1;33m,\u001b[0m \u001b[0minitial_state_covariance\u001b[0m\u001b[1;33m,\u001b[0m \u001b[0mZ\u001b[0m\u001b[1;33m\u001b[0m\u001b[1;33m\u001b[0m\u001b[0m\n\u001b[0m\u001b[0;32m   1329\u001b[0m             )\n\u001b[0;32m   1330\u001b[0m         )\n",
      "\u001b[1;32m~\\Anaconda3\\lib\\site-packages\\pykalman\\standard.py\u001b[0m in \u001b[0;36m_filter\u001b[1;34m(transition_matrices, observation_matrices, transition_covariance, observation_covariance, transition_offsets, observation_offsets, initial_state_mean, initial_state_covariance, observations)\u001b[0m\n\u001b[0;32m    378\u001b[0m                     \u001b[0mtransition_offset\u001b[0m\u001b[1;33m,\u001b[0m\u001b[1;33m\u001b[0m\u001b[1;33m\u001b[0m\u001b[0m\n\u001b[0;32m    379\u001b[0m                     \u001b[0mfiltered_state_means\u001b[0m\u001b[1;33m[\u001b[0m\u001b[0mt\u001b[0m \u001b[1;33m-\u001b[0m \u001b[1;36m1\u001b[0m\u001b[1;33m]\u001b[0m\u001b[1;33m,\u001b[0m\u001b[1;33m\u001b[0m\u001b[1;33m\u001b[0m\u001b[0m\n\u001b[1;32m--> 380\u001b[1;33m                     \u001b[0mfiltered_state_covariances\u001b[0m\u001b[1;33m[\u001b[0m\u001b[0mt\u001b[0m \u001b[1;33m-\u001b[0m \u001b[1;36m1\u001b[0m\u001b[1;33m]\u001b[0m\u001b[1;33m\u001b[0m\u001b[1;33m\u001b[0m\u001b[0m\n\u001b[0m\u001b[0;32m    381\u001b[0m                 )\n\u001b[0;32m    382\u001b[0m             )\n",
      "\u001b[1;32m~\\Anaconda3\\lib\\site-packages\\pykalman\\standard.py\u001b[0m in \u001b[0;36m_filter_predict\u001b[1;34m(transition_matrix, transition_covariance, transition_offset, current_state_mean, current_state_covariance)\u001b[0m\n\u001b[0;32m    212\u001b[0m         np.dot(transition_matrix,\n\u001b[0;32m    213\u001b[0m                np.dot(current_state_covariance,\n\u001b[1;32m--> 214\u001b[1;33m                       transition_matrix.T))\n\u001b[0m\u001b[0;32m    215\u001b[0m         \u001b[1;33m+\u001b[0m \u001b[0mtransition_covariance\u001b[0m\u001b[1;33m\u001b[0m\u001b[1;33m\u001b[0m\u001b[0m\n\u001b[0;32m    216\u001b[0m     )\n",
      "\u001b[1;31mKeyboardInterrupt\u001b[0m: "
     ]
    }
   ],
   "source": [
    "from numdifftools import Jacobian, Hessian\n",
    "from scipy.optimize import minimize\n",
    "\n",
    "\n",
    "z_min = lambda params: -kalman_fed_nyc(bd_all,X,y,n_factors,t_params(params,len(X+y),n_factors),\n",
    "                                       initial_state_mean,initial_state_covariance,test_size)[0]\n",
    "z_hess = lambda params: -kalman_fed_nyc(bd_all,X,y,n_factors,params,\n",
    "                                        initial_state_mean,initial_state_covariance,test_size)[0]\n",
    "\n",
    "LogLikelihood = np.Inf\n",
    "\n",
    "x0 = h_params_ic_pc\n",
    "print(x0)\n",
    "x_opt_ = minimize(z_min, x0, method='Nelder-Mead', options={'disp': True,'maxiter':10000})\n"
   ]
  },
  {
   "cell_type": "code",
   "execution_count": null,
   "metadata": {
    "scrolled": true
   },
   "outputs": [],
   "source": [
    "ll, kf, bd_S,bd_F, bd_P, bd, bd_data = kalman_fed_nyc(bd_all,X,y,n_factors,t_params(x_opt_.x,len(X+y),n_factors),\n",
    "                                             initial_state_mean,initial_state_covariance,0)"
   ]
  },
  {
   "cell_type": "markdown",
   "metadata": {},
   "source": [
    "### Guardando el modelo como una lista"
   ]
  },
  {
   "cell_type": "code",
   "execution_count": null,
   "metadata": {},
   "outputs": [],
   "source": [
    "Nowcast_model = [X,y,n_factors,t_params(x_opt_.x,len(X+y),n_factors),initial_state_mean,initial_state_covariance, bd, bd_data]\n",
    "\n",
    "import pickle\n",
    "\n",
    "with open(rutaModelos + 'nowcast_model.pkl', 'wb') as f:\n",
    "    pickle.dump(Nowcast_model, f)"
   ]
  },
  {
   "cell_type": "code",
   "execution_count": null,
   "metadata": {},
   "outputs": [],
   "source": [
    "bd_data.join(bd_P[y].rename(columns = lambda y: 'PRED_' + y))"
   ]
  },
  {
   "cell_type": "markdown",
   "metadata": {},
   "source": [
    "### 2 etapa - proyecciones trimestrales "
   ]
  },
  {
   "cell_type": "code",
   "execution_count": 35,
   "metadata": {},
   "outputs": [
    {
     "data": {
      "text/plain": [
       "0.8002483734998262"
      ]
     },
     "metadata": {},
     "output_type": "display_data"
    },
    {
     "data": {
      "text/plain": [
       "0.48437070090201956"
      ]
     },
     "metadata": {},
     "output_type": "display_data"
    }
   ],
   "source": [
    "from sklearn.linear_model import LinearRegression\n",
    "from sklearn.model_selection import train_test_split\n",
    "import pickle\n",
    "\n",
    "Linear_ = LinearRegression()\n",
    "\n",
    "bd_2etapa = bd_S[bd_S.columns[0]].groupby(pd.Grouper(freq = 'Q')).aggregate([lambda y: y[0], lambda y: y[1], lambda y: y[2]]).rename(columns = lambda y: y[8])\n",
    "X_ = bd_2etapa.columns\n",
    "bd_2etapa = bd_2etapa.join(bd_all[Z].groupby(pd.Grouper(freq = 'Q')).sum())\n",
    "\n",
    "bd_train, bd_test, y_train, y_test = train_test_split(bd_2etapa[X_],bd_2etapa[Z], random_state = 1109)\n",
    "\n",
    "#Fit de modelos lineales\n",
    "\n",
    "Linear_.fit(bd_train,y_train)\n",
    "\n",
    "#Scores outsamples\n",
    "\n",
    "display(Linear_.score(bd_train,y_train))\n",
    "display(Linear_.score(bd_test,y_test))\n",
    "\n",
    "\n",
    "with open(rutaModelos + 'nowcast_2stage.pkl', 'wb') as f:\n",
    "    pickle.dump([Z,Linear_], f)"
   ]
  },
  {
   "cell_type": "markdown",
   "metadata": {},
   "source": [
    "### Evaluacion Proyecciones"
   ]
  },
  {
   "cell_type": "code",
   "execution_count": null,
   "metadata": {},
   "outputs": [],
   "source": [
    "test_size = 36\n",
    "bd_forecast_one = pd.DataFrame()\n",
    "bd_forecast_two = pd.DataFrame()\n",
    "bd_forecast_three = pd.DataFrame()\n",
    "for t in range(test_size,0,-1):\n",
    "    _, _, _,_, bd_P, _, bd_data = kalman_fed_nyc(bd_all,X,y,n_factors,t_params(x_opt_.x,len(X+y),n_factors),\n",
    "                                             initial_state_mean,initial_state_covariance,t)\n",
    "    \n",
    "    \n",
    "    #bd_P[-t-1:][y].rename(columns = lambda y: 'PRED' + y).join(bd_data[-t-1:]).plot()\n",
    "    if -t+1 < 0:\n",
    "        bd_forecast_one = bd_forecast_one.append(bd_P[-t:-t+1][y].rename(columns = lambda y: '1STEP_' + y), ignore_index = False)\n",
    "    if -t+2 < 0:\n",
    "        bd_forecast_two = bd_forecast_two.append(bd_P[-t+1:-t+2][y].rename(columns = lambda y: '2STEP_' + y), ignore_index = False)\n",
    "    if -t+3 < 0:\n",
    "        bd_forecast_three = bd_forecast_three.append(bd_P[-t+2:-t+3][y].rename(columns = lambda y: '3STEP_' + y), ignore_index = False)"
   ]
  },
  {
   "cell_type": "code",
   "execution_count": null,
   "metadata": {},
   "outputs": [],
   "source": [
    "bd_eval = bd_data.join(bd_forecast_one).join(bd_forecast_two).join(bd_forecast_three)\n",
    "bd_eval_metrics = bd_eval.dropna()"
   ]
  },
  {
   "cell_type": "code",
   "execution_count": null,
   "metadata": {},
   "outputs": [],
   "source": [
    "bd_eval"
   ]
  },
  {
   "cell_type": "code",
   "execution_count": null,
   "metadata": {},
   "outputs": [],
   "source": [
    "bd_eval_metrics"
   ]
  },
  {
   "cell_type": "markdown",
   "metadata": {},
   "source": [
    "### Prediccion un periodo adelante"
   ]
  },
  {
   "cell_type": "code",
   "execution_count": null,
   "metadata": {},
   "outputs": [],
   "source": [
    "#Evaluacion\n",
    "\n",
    "bd_eval[y + ['1STEP_' + y[0]]].plot()\n",
    "r2_out = r2_score(bd_eval_metrics[y],bd_eval_metrics[['1STEP_' + y[0]]]) \n",
    "mae_out = mean_absolute_error(bd_eval_metrics[y],bd_eval_metrics[['1STEP_' + y[0]]])\n",
    "rmse_out = mean_squared_error(bd_eval_metrics[y],bd_eval_metrics[['1STEP_' + y[0]]]) ** 0.5\n",
    "\n",
    "\n",
    "display(bd_eval_metrics.describe())\n",
    "display(\"R2 outsample\" + str(r2_out))\n",
    "display(\"MAE outsample\" + str(mae_out))\n",
    "display(\"RMSE outsample\" + str(rmse_out))"
   ]
  },
  {
   "cell_type": "markdown",
   "metadata": {},
   "source": [
    "### Prediccion dos periodos adelante"
   ]
  },
  {
   "cell_type": "code",
   "execution_count": null,
   "metadata": {},
   "outputs": [],
   "source": [
    "\n",
    "#Evaluacion\n",
    "\n",
    "bd_eval[y + ['2STEP_' + y[0]]].plot()\n",
    "r2_out = r2_score(bd_eval_metrics[y],bd_eval_metrics[['2STEP_' + y[0]]]) \n",
    "mae_out = mean_absolute_error(bd_eval_metrics[y],bd_eval_metrics[['2STEP_' + y[0]]])\n",
    "rmse_out = mean_squared_error(bd_eval_metrics[y],bd_eval_metrics[['2STEP_' + y[0]]]) ** 0.5\n",
    "\n",
    "\n",
    "display(bd_eval_metrics.describe())\n",
    "display(\"R2 outsample\" + str(r2_out))\n",
    "display(\"MAE outsample\" + str(mae_out))\n",
    "display(\"RMSE outsample\" + str(rmse_out))"
   ]
  },
  {
   "cell_type": "markdown",
   "metadata": {},
   "source": [
    "### Prediccion tres periodos adelante"
   ]
  },
  {
   "cell_type": "code",
   "execution_count": null,
   "metadata": {
    "scrolled": true
   },
   "outputs": [],
   "source": [
    "\n",
    "#Evaluacion\n",
    "\n",
    "bd_eval[y + ['3STEP_' + y[0]]].plot()\n",
    "r2_out = r2_score(bd_eval_metrics[y],bd_eval_metrics[['3STEP_' + y[0]]]) \n",
    "mae_out = mean_absolute_error(bd_eval_metrics[y],bd_eval_metrics[['3STEP_' + y[0]]])\n",
    "rmse_out = mean_squared_error(bd_eval_metrics[y],bd_eval_metrics[['3STEP_' + y[0]]]) ** 0.5\n",
    "\n",
    "\n",
    "display(bd_eval_metrics.describe())\n",
    "display(\"R2 outsample\" + str(r2_out))\n",
    "display(\"MAE outsample\" + str(mae_out))\n",
    "display(\"RMSE outsample\" + str(rmse_out))"
   ]
  },
  {
   "cell_type": "code",
   "execution_count": null,
   "metadata": {},
   "outputs": [],
   "source": [
    "bd_eval\n"
   ]
  },
  {
   "cell_type": "code",
   "execution_count": null,
   "metadata": {},
   "outputs": [],
   "source": [
    "bd_eval[-10:]"
   ]
  }
 ],
 "metadata": {
  "kernelspec": {
   "display_name": "Python 3",
   "language": "python",
   "name": "python3"
  },
  "language_info": {
   "codemirror_mode": {
    "name": "ipython",
    "version": 3
   },
   "file_extension": ".py",
   "mimetype": "text/x-python",
   "name": "python",
   "nbconvert_exporter": "python",
   "pygments_lexer": "ipython3",
   "version": "3.7.4"
  },
  "varInspector": {
   "cols": {
    "lenName": 16,
    "lenType": 16,
    "lenVar": 40
   },
   "kernels_config": {
    "python": {
     "delete_cmd_postfix": "",
     "delete_cmd_prefix": "del ",
     "library": "var_list.py",
     "varRefreshCmd": "print(var_dic_list())"
    },
    "r": {
     "delete_cmd_postfix": ") ",
     "delete_cmd_prefix": "rm(",
     "library": "var_list.r",
     "varRefreshCmd": "cat(var_dic_list()) "
    }
   },
   "oldHeight": 122.4,
   "position": {
    "height": "40px",
    "left": "872.8px",
    "right": "20px",
    "top": "232px",
    "width": "250px"
   },
   "types_to_exclude": [
    "module",
    "function",
    "builtin_function_or_method",
    "instance",
    "_Feature"
   ],
   "varInspector_section_display": "none",
   "window_display": true
  }
 },
 "nbformat": 4,
 "nbformat_minor": 4
}
