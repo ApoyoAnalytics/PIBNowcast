{
 "cells": [
  {
   "attachments": {
    "image.png": {
     "image/png": "[encoded data removed]"
    }
   },
   "cell_type": "markdown",
   "metadata": {},
   "source": [
    "![image.png](attachment:image.png)\n",
    "# Interpolacion\n",
    "\n",
    "Esta libreria realiza la interpolacion del PBI a frecuencia mensual, explicada en el punto punto 2.2 (Filtro de Kalman), la cual fue estimada en el modulo Kalman."
   ]
  },
  {
   "cell_type": "markdown",
   "metadata": {},
   "source": [
    "### Librerias y rutas"
   ]
  },
  {
   "cell_type": "code",
   "execution_count": 1,
   "metadata": {},
   "outputs": [],
   "source": [
    "import pandas as pd\n",
    "import numpy as np\n",
    "from pykalman import KalmanFilter\n",
    "import matplotlib.pyplot as plt\n",
    "import seaborn as sns\n",
    "from ipynb.fs.defs.ConstruccionBasedeDatos import BasedeDatos\n",
    "from ipynb.fs.defs.m1Kalman import interpol\n",
    "from sklearn.metrics import mean_absolute_error\n",
    "from sklearn.metrics import r2_score\n",
    "from sklearn.metrics import mean_squared_error"
   ]
  },
  {
   "cell_type": "code",
   "execution_count": 2,
   "metadata": {},
   "outputs": [],
   "source": [
    "#Frecuencias de variables\n",
    "frq1 = 3\n",
    "frq2 = 1"
   ]
  },
  {
   "cell_type": "code",
   "execution_count": 3,
   "metadata": {},
   "outputs": [],
   "source": [
    "rutaOrigen = 'inputs/'\n",
    "rutaEstimacion = 'model_interpol/'\n",
    "rutaDestino = 'resultados/'"
   ]
  },
  {
   "cell_type": "markdown",
   "metadata": {},
   "source": [
    "### Importando base agregada"
   ]
  },
  {
   "cell_type": "code",
   "execution_count": 4,
   "metadata": {},
   "outputs": [
    {
     "name": "stderr",
     "output_type": "stream",
     "text": [
      "C:\\Users\\eo\\Anaconda3\\lib\\site-packages\\pandas\\core\\series.py:679: RuntimeWarning: divide by zero encountered in log\n",
      "  result = getattr(ufunc, method)(*inputs, **kwargs)\n",
      "C:\\Users\\eo\\Anaconda3\\lib\\site-packages\\pandas\\core\\series.py:679: RuntimeWarning: invalid value encountered in log\n",
      "  result = getattr(ufunc, method)(*inputs, **kwargs)\n"
     ]
    }
   ],
   "source": [
    "_,_,_,bd_all = BasedeDatos(rutaOrigen + 'bd_Panama.xlsx')"
   ]
  },
  {
   "cell_type": "code",
   "execution_count": 5,
   "metadata": {},
   "outputs": [],
   "source": [
    "VariablesPBI = ['pbif_Trimestre_VariacionAnual',\n",
    "               ]\n",
    "VariablesExogenas = list(set([x for x in bd_all.columns if 'Mensual_VariacionAnual' in x]) - set(VariablesPBI))"
   ]
  },
  {
   "cell_type": "markdown",
   "metadata": {},
   "source": [
    "### Resultados de interpolacion"
   ]
  },
  {
   "cell_type": "code",
   "execution_count": 6,
   "metadata": {
    "tags": [
     "programa",
     "resultados"
    ]
   },
   "outputs": [],
   "source": [
    "def kalman_resultados(model_input,bd_all,var,frq1,frq2,test_size):\n",
    "    \n",
    "    #Importando modelo\n",
    "    \n",
    "    bd_model = pd.read_excel(model_input,sheet_name = var[0:20], index_col = 0 )\n",
    "\n",
    "    \n",
    "    y = [var]\n",
    "    X = bd_model.index[3:].tolist()\n",
    "    \n",
    "    NombreVariableFrecuencia1Filtrada = y[0][0:6] + '_VariacionFrecuencia1_Filtrada'\n",
    "    NombreVariableFrecuencia2Filtrada = y[0][0:6] + '_VariacionFrecuencia2_Filtrada'\n",
    "\n",
    "    NombreVariableFrecuencia1Imputada = y[0][0:6] + '_VariacionFrecuencia1_Imputada'\n",
    "    NombreVariableFrecuencia2Imputada = y[0][0:6] + '_VariacionFrecuencia2_Imputada'\n",
    "    \n",
    "    ParametrosOptimizados = bd_model.Valor.values.tolist()\n",
    "    \n",
    "    _, KalmanInterpolador, BaseInterpolacion = interpol(bd_all,X,y,frq1,frq2,ParametrosOptimizados,test_size)\n",
    "    \n",
    "    BaseInterpolacion[NombreVariableFrecuencia1Filtrada] = pd.DataFrame(KalmanInterpolador.filter(BaseInterpolacion[y])[0]).set_index(BaseInterpolacion.index)[0] * frq1/frq2\n",
    "    BaseInterpolacion[NombreVariableFrecuencia2Filtrada] = BaseInterpolacion[NombreVariableFrecuencia1Filtrada].rolling(int(frq1/frq2)).mean()\n",
    "    BaseInterpolacion[NombreVariableFrecuencia1Imputada] = pd.DataFrame(KalmanInterpolador.smooth(BaseInterpolacion[y])[0]).set_index(BaseInterpolacion.index)[0] * frq1/frq2\n",
    "    BaseInterpolacion[NombreVariableFrecuencia2Imputada] = BaseInterpolacion[NombreVariableFrecuencia1Imputada].rolling(int(frq1/frq2)).mean()\n",
    "    \n",
    "    baseResultados = BaseInterpolacion[[NombreVariableFrecuencia1Filtrada,NombreVariableFrecuencia2Filtrada,NombreVariableFrecuencia1Imputada,NombreVariableFrecuencia2Imputada]]\n",
    "    \n",
    "    return BaseInterpolacion, KalmanInterpolador, baseResultados"
   ]
  },
  {
   "cell_type": "markdown",
   "metadata": {},
   "source": [
    "### Interpolacion"
   ]
  },
  {
   "cell_type": "code",
   "execution_count": 7,
   "metadata": {
    "scrolled": true
   },
   "outputs": [],
   "source": [
    "baseFinal = pd.DataFrame()\n",
    "for y in VariablesPBI:\n",
    "\n",
    "    _,_,baseInterpolacion = kalman_resultados(rutaEstimacion + 'ModelosKalman.xlsx', bd_all, y, frq1, frq2,0)\n",
    "    baseFinal = baseFinal.join(baseInterpolacion, how = 'outer')"
   ]
  },
  {
   "cell_type": "code",
   "execution_count": 8,
   "metadata": {
    "tags": [
     "exportacion"
    ]
   },
   "outputs": [],
   "source": [
    "with pd.ExcelWriter(rutaDestino + 'baseInterpolacion.xlsx') as writer:\n",
    "    baseFinal.to_excel(writer, sheet_name = 'Interpol')"
   ]
  }
 ],
 "metadata": {
  "celltoolbar": "Tags",
  "kernelspec": {
   "display_name": "Python 3",
   "language": "python",
   "name": "python3"
  },
  "language_info": {
   "codemirror_mode": {
    "name": "ipython",
    "version": 3
   },
   "file_extension": ".py",
   "mimetype": "text/x-python",
   "name": "python",
   "nbconvert_exporter": "python",
   "pygments_lexer": "ipython3",
   "version": "3.7.6"
  },
  "varInspector": {
   "cols": {
    "lenName": 16,
    "lenType": 16,
    "lenVar": 40
   },
   "kernels_config": {
    "python": {
     "delete_cmd_postfix": "",
     "delete_cmd_prefix": "del ",
     "library": "var_list.py",
     "varRefreshCmd": "print(var_dic_list())"
    },
    "r": {
     "delete_cmd_postfix": ") ",
     "delete_cmd_prefix": "rm(",
     "library": "var_list.r",
     "varRefreshCmd": "cat(var_dic_list()) "
    }
   },
   "oldHeight": 122.545454,
   "position": {
    "height": "144px",
    "left": "1026.36px",
    "right": "20px",
    "top": "120px",
    "width": "350px"
   },
   "types_to_exclude": [
    "module",
    "function",
    "builtin_function_or_method",
    "instance",
    "_Feature"
   ],
   "varInspector_section_display": "block",
   "window_display": true
  }
 },
 "nbformat": 4,
 "nbformat_minor": 4
}
